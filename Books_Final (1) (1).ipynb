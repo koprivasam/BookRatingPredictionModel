{
 "cells": [
  {
   "cell_type": "code",
   "execution_count": 1,
   "id": "4ce23ece",
   "metadata": {},
   "outputs": [],
   "source": [
    "# Importing libraries\n",
    "import numpy as np\n",
    "import pandas as pd\n",
    "import matplotlib.pyplot as plt\n",
    "import seaborn as sns\n",
    "# Compute model Libraties\n",
    "from sklearn import metrics\n",
    "from sklearn.metrics import r2_score \n",
    "from sklearn.metrics import mean_squared_error"
   ]
  },
  {
   "cell_type": "code",
   "execution_count": 2,
   "id": "730fce80",
   "metadata": {},
   "outputs": [],
   "source": [
    "books = pd.read_csv(r\"C:\\Users\\kopri\\OneDrive\\Documents\\DSTI\\Python_lab\\Project\\Book_Hrv.csv\", on_bad_lines = \"skip\")"
   ]
  },
  {
   "cell_type": "code",
   "execution_count": 3,
   "id": "4f392e4f",
   "metadata": {},
   "outputs": [
    {
     "data": {
      "text/plain": [
       "'C:\\\\Users\\\\kopri'"
      ]
     },
     "execution_count": 3,
     "metadata": {},
     "output_type": "execute_result"
    }
   ],
   "source": [
    "pwd"
   ]
  },
  {
   "cell_type": "code",
   "execution_count": 4,
   "id": "a5650d18",
   "metadata": {
    "scrolled": false
   },
   "outputs": [
    {
     "name": "stdout",
     "output_type": "stream",
     "text": [
      "   bookID                                              title  \\\n",
      "0       1  Harry Potter and the Half-Blood Prince (Harry ...   \n",
      "1       2  Harry Potter and the Order of the Phoenix (Har...   \n",
      "2       4  Harry Potter and the Chamber of Secrets (Harry...   \n",
      "3       5  Harry Potter and the Prisoner of Azkaban (Harr...   \n",
      "4       8  Harry Potter Boxed Set  Books 1-5 (Harry Potte...   \n",
      "\n",
      "                      authors  average_rating        isbn        isbn13  \\\n",
      "0  J.K. Rowling/Mary GrandPr?            4.57  0439785960  9.780440e+12   \n",
      "1  J.K. Rowling/Mary GrandPr?            4.49  0439358078  9.780440e+12   \n",
      "2                J.K. Rowling            4.42  0439554896  9.780440e+12   \n",
      "3  J.K. Rowling/Mary GrandPr?            4.56  043965548X  9.780440e+12   \n",
      "4  J.K. Rowling/Mary GrandPr?            4.78  0439682584  9.780440e+12   \n",
      "\n",
      "  language_code  num_pages  ratings_count  text_reviews_count  \\\n",
      "0           eng        652        2095690             27591.0   \n",
      "1           eng        870        2153167             29221.0   \n",
      "2           eng        352           6333               244.0   \n",
      "3           eng        435        2339585             36325.0   \n",
      "4           eng       2690          41428               164.0   \n",
      "\n",
      "  publication_date        publisher  \n",
      "0        9/16/2006  Scholastic Inc.  \n",
      "1         9/1/2004  Scholastic Inc.  \n",
      "2        11/1/2003       Scholastic  \n",
      "3         5/1/2004  Scholastic Inc.  \n",
      "4        9/13/2004       Scholastic  \n"
     ]
    }
   ],
   "source": [
    "\n",
    "print ( books.head() )\n",
    "\n"
   ]
  },
  {
   "cell_type": "code",
   "execution_count": 5,
   "id": "f5e971a3",
   "metadata": {
    "scrolled": true
   },
   "outputs": [
    {
     "data": {
      "text/html": [
       "<div>\n",
       "<style scoped>\n",
       "    .dataframe tbody tr th:only-of-type {\n",
       "        vertical-align: middle;\n",
       "    }\n",
       "\n",
       "    .dataframe tbody tr th {\n",
       "        vertical-align: top;\n",
       "    }\n",
       "\n",
       "    .dataframe thead th {\n",
       "        text-align: right;\n",
       "    }\n",
       "</style>\n",
       "<table border=\"1\" class=\"dataframe\">\n",
       "  <thead>\n",
       "    <tr style=\"text-align: right;\">\n",
       "      <th></th>\n",
       "      <th>bookID</th>\n",
       "      <th>title</th>\n",
       "      <th>authors</th>\n",
       "      <th>average_rating</th>\n",
       "      <th>isbn</th>\n",
       "      <th>isbn13</th>\n",
       "      <th>language_code</th>\n",
       "      <th>num_pages</th>\n",
       "      <th>ratings_count</th>\n",
       "      <th>text_reviews_count</th>\n",
       "      <th>publication_date</th>\n",
       "      <th>publisher</th>\n",
       "    </tr>\n",
       "  </thead>\n",
       "  <tbody>\n",
       "    <tr>\n",
       "      <th>0</th>\n",
       "      <td>1</td>\n",
       "      <td>Harry Potter and the Half-Blood Prince (Harry ...</td>\n",
       "      <td>J.K. Rowling/Mary GrandPr?</td>\n",
       "      <td>4.57</td>\n",
       "      <td>0439785960</td>\n",
       "      <td>9.780440e+12</td>\n",
       "      <td>eng</td>\n",
       "      <td>652</td>\n",
       "      <td>2095690</td>\n",
       "      <td>27591.0</td>\n",
       "      <td>9/16/2006</td>\n",
       "      <td>Scholastic Inc.</td>\n",
       "    </tr>\n",
       "    <tr>\n",
       "      <th>1</th>\n",
       "      <td>2</td>\n",
       "      <td>Harry Potter and the Order of the Phoenix (Har...</td>\n",
       "      <td>J.K. Rowling/Mary GrandPr?</td>\n",
       "      <td>4.49</td>\n",
       "      <td>0439358078</td>\n",
       "      <td>9.780440e+12</td>\n",
       "      <td>eng</td>\n",
       "      <td>870</td>\n",
       "      <td>2153167</td>\n",
       "      <td>29221.0</td>\n",
       "      <td>9/1/2004</td>\n",
       "      <td>Scholastic Inc.</td>\n",
       "    </tr>\n",
       "    <tr>\n",
       "      <th>2</th>\n",
       "      <td>4</td>\n",
       "      <td>Harry Potter and the Chamber of Secrets (Harry...</td>\n",
       "      <td>J.K. Rowling</td>\n",
       "      <td>4.42</td>\n",
       "      <td>0439554896</td>\n",
       "      <td>9.780440e+12</td>\n",
       "      <td>eng</td>\n",
       "      <td>352</td>\n",
       "      <td>6333</td>\n",
       "      <td>244.0</td>\n",
       "      <td>11/1/2003</td>\n",
       "      <td>Scholastic</td>\n",
       "    </tr>\n",
       "    <tr>\n",
       "      <th>3</th>\n",
       "      <td>5</td>\n",
       "      <td>Harry Potter and the Prisoner of Azkaban (Harr...</td>\n",
       "      <td>J.K. Rowling/Mary GrandPr?</td>\n",
       "      <td>4.56</td>\n",
       "      <td>043965548X</td>\n",
       "      <td>9.780440e+12</td>\n",
       "      <td>eng</td>\n",
       "      <td>435</td>\n",
       "      <td>2339585</td>\n",
       "      <td>36325.0</td>\n",
       "      <td>5/1/2004</td>\n",
       "      <td>Scholastic Inc.</td>\n",
       "    </tr>\n",
       "    <tr>\n",
       "      <th>4</th>\n",
       "      <td>8</td>\n",
       "      <td>Harry Potter Boxed Set  Books 1-5 (Harry Potte...</td>\n",
       "      <td>J.K. Rowling/Mary GrandPr?</td>\n",
       "      <td>4.78</td>\n",
       "      <td>0439682584</td>\n",
       "      <td>9.780440e+12</td>\n",
       "      <td>eng</td>\n",
       "      <td>2690</td>\n",
       "      <td>41428</td>\n",
       "      <td>164.0</td>\n",
       "      <td>9/13/2004</td>\n",
       "      <td>Scholastic</td>\n",
       "    </tr>\n",
       "    <tr>\n",
       "      <th>...</th>\n",
       "      <td>...</td>\n",
       "      <td>...</td>\n",
       "      <td>...</td>\n",
       "      <td>...</td>\n",
       "      <td>...</td>\n",
       "      <td>...</td>\n",
       "      <td>...</td>\n",
       "      <td>...</td>\n",
       "      <td>...</td>\n",
       "      <td>...</td>\n",
       "      <td>...</td>\n",
       "      <td>...</td>\n",
       "    </tr>\n",
       "    <tr>\n",
       "      <th>11122</th>\n",
       "      <td>45631</td>\n",
       "      <td>Expelled from Eden: A William T. Vollmann Reader</td>\n",
       "      <td>William T. Vollmann/Larry McCaffery/Michael He...</td>\n",
       "      <td>4.06</td>\n",
       "      <td>1560254416</td>\n",
       "      <td>9.781560e+12</td>\n",
       "      <td>eng</td>\n",
       "      <td>512</td>\n",
       "      <td>156</td>\n",
       "      <td>20.0</td>\n",
       "      <td>12/21/2004</td>\n",
       "      <td>Da Capo Press</td>\n",
       "    </tr>\n",
       "    <tr>\n",
       "      <th>11123</th>\n",
       "      <td>45633</td>\n",
       "      <td>You Bright and Risen Angels</td>\n",
       "      <td>William T. Vollmann</td>\n",
       "      <td>4.08</td>\n",
       "      <td>0140110879</td>\n",
       "      <td>9.780140e+12</td>\n",
       "      <td>eng</td>\n",
       "      <td>635</td>\n",
       "      <td>783</td>\n",
       "      <td>56.0</td>\n",
       "      <td>12/1/1988</td>\n",
       "      <td>Penguin Books</td>\n",
       "    </tr>\n",
       "    <tr>\n",
       "      <th>11124</th>\n",
       "      <td>45634</td>\n",
       "      <td>The Ice-Shirt (Seven Dreams #1)</td>\n",
       "      <td>William T. Vollmann</td>\n",
       "      <td>3.96</td>\n",
       "      <td>0140131965</td>\n",
       "      <td>9.780140e+12</td>\n",
       "      <td>eng</td>\n",
       "      <td>415</td>\n",
       "      <td>820</td>\n",
       "      <td>95.0</td>\n",
       "      <td>8/1/1993</td>\n",
       "      <td>Penguin Books</td>\n",
       "    </tr>\n",
       "    <tr>\n",
       "      <th>11125</th>\n",
       "      <td>45639</td>\n",
       "      <td>Poor People</td>\n",
       "      <td>William T. Vollmann</td>\n",
       "      <td>3.72</td>\n",
       "      <td>0060878827</td>\n",
       "      <td>9.780060e+12</td>\n",
       "      <td>eng</td>\n",
       "      <td>434</td>\n",
       "      <td>769</td>\n",
       "      <td>139.0</td>\n",
       "      <td>2/27/2007</td>\n",
       "      <td>Ecco</td>\n",
       "    </tr>\n",
       "    <tr>\n",
       "      <th>11126</th>\n",
       "      <td>45641</td>\n",
       "      <td>Las aventuras de Tom Sawyer</td>\n",
       "      <td>Mark Twain</td>\n",
       "      <td>3.91</td>\n",
       "      <td>8497646983</td>\n",
       "      <td>9.788500e+12</td>\n",
       "      <td>spa</td>\n",
       "      <td>272</td>\n",
       "      <td>113</td>\n",
       "      <td>12.0</td>\n",
       "      <td>5/28/2006</td>\n",
       "      <td>Edimat Libros</td>\n",
       "    </tr>\n",
       "  </tbody>\n",
       "</table>\n",
       "<p>11127 rows × 12 columns</p>\n",
       "</div>"
      ],
      "text/plain": [
       "       bookID                                              title  \\\n",
       "0           1  Harry Potter and the Half-Blood Prince (Harry ...   \n",
       "1           2  Harry Potter and the Order of the Phoenix (Har...   \n",
       "2           4  Harry Potter and the Chamber of Secrets (Harry...   \n",
       "3           5  Harry Potter and the Prisoner of Azkaban (Harr...   \n",
       "4           8  Harry Potter Boxed Set  Books 1-5 (Harry Potte...   \n",
       "...       ...                                                ...   \n",
       "11122   45631   Expelled from Eden: A William T. Vollmann Reader   \n",
       "11123   45633                        You Bright and Risen Angels   \n",
       "11124   45634                    The Ice-Shirt (Seven Dreams #1)   \n",
       "11125   45639                                        Poor People   \n",
       "11126   45641                        Las aventuras de Tom Sawyer   \n",
       "\n",
       "                                                 authors  average_rating  \\\n",
       "0                             J.K. Rowling/Mary GrandPr?            4.57   \n",
       "1                             J.K. Rowling/Mary GrandPr?            4.49   \n",
       "2                                           J.K. Rowling            4.42   \n",
       "3                             J.K. Rowling/Mary GrandPr?            4.56   \n",
       "4                             J.K. Rowling/Mary GrandPr?            4.78   \n",
       "...                                                  ...             ...   \n",
       "11122  William T. Vollmann/Larry McCaffery/Michael He...            4.06   \n",
       "11123                                William T. Vollmann            4.08   \n",
       "11124                                William T. Vollmann            3.96   \n",
       "11125                                William T. Vollmann            3.72   \n",
       "11126                                         Mark Twain            3.91   \n",
       "\n",
       "             isbn        isbn13 language_code  num_pages  ratings_count  \\\n",
       "0      0439785960  9.780440e+12           eng        652        2095690   \n",
       "1      0439358078  9.780440e+12           eng        870        2153167   \n",
       "2      0439554896  9.780440e+12           eng        352           6333   \n",
       "3      043965548X  9.780440e+12           eng        435        2339585   \n",
       "4      0439682584  9.780440e+12           eng       2690          41428   \n",
       "...           ...           ...           ...        ...            ...   \n",
       "11122  1560254416  9.781560e+12           eng        512            156   \n",
       "11123  0140110879  9.780140e+12           eng        635            783   \n",
       "11124  0140131965  9.780140e+12           eng        415            820   \n",
       "11125  0060878827  9.780060e+12           eng        434            769   \n",
       "11126  8497646983  9.788500e+12           spa        272            113   \n",
       "\n",
       "       text_reviews_count publication_date        publisher  \n",
       "0                 27591.0        9/16/2006  Scholastic Inc.  \n",
       "1                 29221.0         9/1/2004  Scholastic Inc.  \n",
       "2                   244.0        11/1/2003       Scholastic  \n",
       "3                 36325.0         5/1/2004  Scholastic Inc.  \n",
       "4                   164.0        9/13/2004       Scholastic  \n",
       "...                   ...              ...              ...  \n",
       "11122                20.0       12/21/2004    Da Capo Press  \n",
       "11123                56.0        12/1/1988    Penguin Books  \n",
       "11124                95.0         8/1/1993    Penguin Books  \n",
       "11125               139.0        2/27/2007             Ecco  \n",
       "11126                12.0        5/28/2006    Edimat Libros  \n",
       "\n",
       "[11127 rows x 12 columns]"
      ]
     },
     "execution_count": 5,
     "metadata": {},
     "output_type": "execute_result"
    }
   ],
   "source": [
    "# Dataset composition (first and last 4 rows)\n",
    "books.fillna(4)"
   ]
  },
  {
   "cell_type": "code",
   "execution_count": 6,
   "id": "26a46336",
   "metadata": {
    "scrolled": true
   },
   "outputs": [
    {
     "name": "stdout",
     "output_type": "stream",
     "text": [
      "Record cnt: 11127\n"
     ]
    }
   ],
   "source": [
    "# Number of records in the dataset is 11127\n",
    "total_records = len(books['bookID'])\n",
    "print( \"Record cnt: {}\".format( total_records ) )"
   ]
  },
  {
   "cell_type": "code",
   "execution_count": 7,
   "id": "7e8905f4",
   "metadata": {
    "scrolled": true
   },
   "outputs": [
    {
     "data": {
      "text/html": [
       "<div>\n",
       "<style scoped>\n",
       "    .dataframe tbody tr th:only-of-type {\n",
       "        vertical-align: middle;\n",
       "    }\n",
       "\n",
       "    .dataframe tbody tr th {\n",
       "        vertical-align: top;\n",
       "    }\n",
       "\n",
       "    .dataframe thead th {\n",
       "        text-align: right;\n",
       "    }\n",
       "</style>\n",
       "<table border=\"1\" class=\"dataframe\">\n",
       "  <thead>\n",
       "    <tr style=\"text-align: right;\">\n",
       "      <th></th>\n",
       "      <th>bookID</th>\n",
       "      <th>average_rating</th>\n",
       "      <th>isbn13</th>\n",
       "      <th>num_pages</th>\n",
       "      <th>ratings_count</th>\n",
       "      <th>text_reviews_count</th>\n",
       "    </tr>\n",
       "  </thead>\n",
       "  <tbody>\n",
       "    <tr>\n",
       "      <th>count</th>\n",
       "      <td>11127.000000</td>\n",
       "      <td>11127.000000</td>\n",
       "      <td>1.112700e+04</td>\n",
       "      <td>11127.000000</td>\n",
       "      <td>1.112700e+04</td>\n",
       "      <td>11123.000000</td>\n",
       "    </tr>\n",
       "    <tr>\n",
       "      <th>mean</th>\n",
       "      <td>21310.938887</td>\n",
       "      <td>3.933631</td>\n",
       "      <td>9.759888e+12</td>\n",
       "      <td>336.376921</td>\n",
       "      <td>1.793641e+04</td>\n",
       "      <td>542.048099</td>\n",
       "    </tr>\n",
       "    <tr>\n",
       "      <th>std</th>\n",
       "      <td>13093.358023</td>\n",
       "      <td>0.352445</td>\n",
       "      <td>4.428964e+11</td>\n",
       "      <td>241.127305</td>\n",
       "      <td>1.124794e+05</td>\n",
       "      <td>2576.619589</td>\n",
       "    </tr>\n",
       "    <tr>\n",
       "      <th>min</th>\n",
       "      <td>1.000000</td>\n",
       "      <td>0.000000</td>\n",
       "      <td>8.987060e+09</td>\n",
       "      <td>0.000000</td>\n",
       "      <td>0.000000e+00</td>\n",
       "      <td>0.000000</td>\n",
       "    </tr>\n",
       "    <tr>\n",
       "      <th>25%</th>\n",
       "      <td>10287.000000</td>\n",
       "      <td>3.770000</td>\n",
       "      <td>9.780350e+12</td>\n",
       "      <td>192.000000</td>\n",
       "      <td>1.040000e+02</td>\n",
       "      <td>9.000000</td>\n",
       "    </tr>\n",
       "    <tr>\n",
       "      <th>50%</th>\n",
       "      <td>20287.000000</td>\n",
       "      <td>3.960000</td>\n",
       "      <td>9.780590e+12</td>\n",
       "      <td>299.000000</td>\n",
       "      <td>7.450000e+02</td>\n",
       "      <td>47.000000</td>\n",
       "    </tr>\n",
       "    <tr>\n",
       "      <th>75%</th>\n",
       "      <td>32104.500000</td>\n",
       "      <td>4.135000</td>\n",
       "      <td>9.780870e+12</td>\n",
       "      <td>416.000000</td>\n",
       "      <td>4.993500e+03</td>\n",
       "      <td>238.000000</td>\n",
       "    </tr>\n",
       "    <tr>\n",
       "      <th>max</th>\n",
       "      <td>45641.000000</td>\n",
       "      <td>5.000000</td>\n",
       "      <td>9.790010e+12</td>\n",
       "      <td>6576.000000</td>\n",
       "      <td>4.597666e+06</td>\n",
       "      <td>94265.000000</td>\n",
       "    </tr>\n",
       "  </tbody>\n",
       "</table>\n",
       "</div>"
      ],
      "text/plain": [
       "             bookID  average_rating        isbn13     num_pages  \\\n",
       "count  11127.000000    11127.000000  1.112700e+04  11127.000000   \n",
       "mean   21310.938887        3.933631  9.759888e+12    336.376921   \n",
       "std    13093.358023        0.352445  4.428964e+11    241.127305   \n",
       "min        1.000000        0.000000  8.987060e+09      0.000000   \n",
       "25%    10287.000000        3.770000  9.780350e+12    192.000000   \n",
       "50%    20287.000000        3.960000  9.780590e+12    299.000000   \n",
       "75%    32104.500000        4.135000  9.780870e+12    416.000000   \n",
       "max    45641.000000        5.000000  9.790010e+12   6576.000000   \n",
       "\n",
       "       ratings_count  text_reviews_count  \n",
       "count   1.112700e+04        11123.000000  \n",
       "mean    1.793641e+04          542.048099  \n",
       "std     1.124794e+05         2576.619589  \n",
       "min     0.000000e+00            0.000000  \n",
       "25%     1.040000e+02            9.000000  \n",
       "50%     7.450000e+02           47.000000  \n",
       "75%     4.993500e+03          238.000000  \n",
       "max     4.597666e+06        94265.000000  "
      ]
     },
     "execution_count": 7,
     "metadata": {},
     "output_type": "execute_result"
    }
   ],
   "source": [
    "For # Statistical analysis of dataset\n",
    "books.describe()"
   ]
  },
  {
   "cell_type": "code",
   "execution_count": 9,
   "id": "7c0ffab9",
   "metadata": {
    "scrolled": true
   },
   "outputs": [
    {
     "name": "stdout",
     "output_type": "stream",
     "text": [
      "<class 'pandas.core.frame.DataFrame'>\n",
      "RangeIndex: 11127 entries, 0 to 11126\n",
      "Data columns (total 12 columns):\n",
      " #   Column              Non-Null Count  Dtype  \n",
      "---  ------              --------------  -----  \n",
      " 0   bookID              11127 non-null  int64  \n",
      " 1   title               11127 non-null  object \n",
      " 2   authors             11127 non-null  object \n",
      " 3   average_rating      11127 non-null  float64\n",
      " 4   isbn                11126 non-null  object \n",
      " 5   isbn13              11127 non-null  float64\n",
      " 6   language_code       11123 non-null  object \n",
      " 7   num_pages           11127 non-null  int64  \n",
      " 8   ratings_count       11127 non-null  int64  \n",
      " 9   text_reviews_count  11123 non-null  float64\n",
      " 10  publication_date    11125 non-null  object \n",
      " 11  publisher           11123 non-null  object \n",
      "dtypes: float64(3), int64(3), object(6)\n",
      "memory usage: 1.0+ MB\n"
     ]
    }
   ],
   "source": [
    "#Description of dataser:Datatypes,Count,Column\n",
    "books.info() \n"
   ]
  },
  {
   "cell_type": "code",
   "execution_count": 10,
   "id": "aea64d38",
   "metadata": {
    "scrolled": true
   },
   "outputs": [
    {
     "data": {
      "text/plain": [
       "bookID                0\n",
       "title                 0\n",
       "authors               0\n",
       "average_rating        0\n",
       "isbn                  1\n",
       "isbn13                0\n",
       "language_code         4\n",
       "num_pages             0\n",
       "ratings_count         0\n",
       "text_reviews_count    4\n",
       "publication_date      2\n",
       "publisher             4\n",
       "dtype: int64"
      ]
     },
     "execution_count": 10,
     "metadata": {},
     "output_type": "execute_result"
    }
   ],
   "source": [
    "# Check for null values\n",
    "books.isna().sum()"
   ]
  },
  {
   "cell_type": "code",
   "execution_count": 8,
   "id": "7489de42",
   "metadata": {},
   "outputs": [
    {
     "name": "stdout",
     "output_type": "stream",
     "text": [
      "Scholastic Inc.\n"
     ]
    }
   ],
   "source": [
    "# First clean parsing errors (publishers separated with comma)\n",
    "# Need to replace, but maybe leave value as array, this will help with title duplicates, they can also be stored in array\n",
    "# This is fucking mess!!!!\n",
    "for i in range( len( books.publisher ) ):\n",
    "    if type( books.publisher[i] ) != 'str':\n",
    "        # books[i].__setitem__( 'publisher', 'none' )\n",
    "        print( books['publisher'][i] )\n",
    "        break"
   ]
  },
  {
   "cell_type": "code",
   "execution_count": 12,
   "id": "76fc01c4",
   "metadata": {},
   "outputs": [],
   "source": [
    "# Drop the columns isbn and isbn13, because it has no impact on the target variable \"Average rating\"\n",
    "books = books.drop([\"isbn\",\"isbn13\"],axis=1)"
   ]
  },
  {
   "cell_type": "code",
   "execution_count": 13,
   "id": "96fb4ff7",
   "metadata": {
    "scrolled": true
   },
   "outputs": [
    {
     "data": {
      "text/plain": [
       "{'ale',\n",
       " 'ara',\n",
       " 'en-CA',\n",
       " 'en-GB',\n",
       " 'en-US',\n",
       " 'eng',\n",
       " 'enm',\n",
       " 'fre',\n",
       " 'ger',\n",
       " 'gla',\n",
       " 'glg',\n",
       " 'grc',\n",
       " 'ita',\n",
       " 'jpn',\n",
       " 'lat',\n",
       " 'msa',\n",
       " 'mul',\n",
       " nan,\n",
       " 'nl',\n",
       " 'nor',\n",
       " 'por',\n",
       " 'rus',\n",
       " 'spa',\n",
       " 'srp',\n",
       " 'swe',\n",
       " 'tur',\n",
       " 'wel',\n",
       " 'zho'}"
      ]
     },
     "execution_count": 13,
     "metadata": {},
     "output_type": "execute_result"
    }
   ],
   "source": [
    "# Pick the language_code as series and then convert it into a Set\n",
    "# Join the Language codes: en-US, en-GB,en-CA to eng\n",
    "list_of_lang = set(books[\"language_code\"])\n",
    "list_of_lang"
   ]
  },
  {
   "cell_type": "code",
   "execution_count": 13,
   "id": "790093d6",
   "metadata": {},
   "outputs": [
    {
     "data": {
      "text/plain": [
       "eng      8908\n",
       "en-US    1408\n",
       "spa       218\n",
       "en-GB     214\n",
       "fre       144\n",
       "ger        99\n",
       "jpn        46\n",
       "mul        19\n",
       "zho        14\n",
       "grc        11\n",
       "por        10\n",
       "en-CA       7\n",
       "ita         5\n",
       "enm         3\n",
       "lat         3\n",
       "swe         2\n",
       "rus         2\n",
       "srp         1\n",
       "nl          1\n",
       "msa         1\n",
       "glg         1\n",
       "wel         1\n",
       "ara         1\n",
       "nor         1\n",
       "tur         1\n",
       "gla         1\n",
       "ale         1\n",
       "Name: language_code, dtype: int64"
      ]
     },
     "execution_count": 13,
     "metadata": {},
     "output_type": "execute_result"
    }
   ],
   "source": [
    "# Looking for distinct values for language_code, and when there are different codes with the same meaning we merge in one.\n",
    "books.language_code.value_counts()"
   ]
  },
  {
   "cell_type": "code",
   "execution_count": 14,
   "id": "43c7d0c4",
   "metadata": {},
   "outputs": [],
   "source": [
    "# Form in the columm an uniformity  'language_code' by looping through the list\n",
    "for i in list_of_lang:\n",
    "    if i == \"English\":\n",
    "        books.loc[books['language_code'] == i,\"language_code\"] = \"eng\"\n",
    "    elif i == \"en-US\":\n",
    "        books.loc[books['language_code'] == i,\"language_code\"] = \"eng\"\n",
    "    elif i == \"en-CA\":\n",
    "        books.loc[books['language_code'] == i,\"language_code\"] = \"eng\"  \n",
    "    elif i == \"en-GB\":\n",
    "        books.loc[books['language_code'] == i,\"language_code\"] = \"eng\"\n",
    "    elif i == \"French\":\n",
    "       books.loc[books['language_code'] == i,\"language_code\"] = \"fre\""
   ]
  },
  {
   "cell_type": "code",
   "execution_count": 15,
   "id": "213d0925",
   "metadata": {},
   "outputs": [
    {
     "data": {
      "text/plain": [
       "eng    10537\n",
       "spa      218\n",
       "fre      144\n",
       "ger       99\n",
       "jpn       46\n",
       "mul       19\n",
       "zho       14\n",
       "grc       11\n",
       "por       10\n",
       "ita        5\n",
       "lat        3\n",
       "enm        3\n",
       "rus        2\n",
       "swe        2\n",
       "nl         1\n",
       "ara        1\n",
       "srp        1\n",
       "msa        1\n",
       "glg        1\n",
       "wel        1\n",
       "nor        1\n",
       "tur        1\n",
       "gla        1\n",
       "ale        1\n",
       "Name: language_code, dtype: int64"
      ]
     },
     "execution_count": 15,
     "metadata": {},
     "output_type": "execute_result"
    }
   ],
   "source": [
    "# Explore the distinct values for language_code after merging same Language code\n",
    "books.language_code.value_counts()"
   ]
  },
  {
   "cell_type": "code",
   "execution_count": 16,
   "id": "33eb37a0",
   "metadata": {},
   "outputs": [
    {
     "data": {
      "text/html": [
       "<div>\n",
       "<style scoped>\n",
       "    .dataframe tbody tr th:only-of-type {\n",
       "        vertical-align: middle;\n",
       "    }\n",
       "\n",
       "    .dataframe tbody tr th {\n",
       "        vertical-align: top;\n",
       "    }\n",
       "\n",
       "    .dataframe thead th {\n",
       "        text-align: right;\n",
       "    }\n",
       "</style>\n",
       "<table border=\"1\" class=\"dataframe\">\n",
       "  <thead>\n",
       "    <tr style=\"text-align: right;\">\n",
       "      <th></th>\n",
       "      <th>bookID</th>\n",
       "      <th>title</th>\n",
       "      <th>authors</th>\n",
       "      <th>average_rating</th>\n",
       "      <th>language_code</th>\n",
       "      <th>num_pages</th>\n",
       "      <th>ratings_count</th>\n",
       "      <th>text_reviews_count</th>\n",
       "      <th>publication_date</th>\n",
       "      <th>publisher</th>\n",
       "    </tr>\n",
       "  </thead>\n",
       "  <tbody>\n",
       "    <tr>\n",
       "      <th>8180</th>\n",
       "      <td>31373</td>\n",
       "      <td>In Pursuit of the Proper Sinner (Inspector Lyn...</td>\n",
       "      <td>Elizabeth  George</td>\n",
       "      <td>4.10</td>\n",
       "      <td>eng</td>\n",
       "      <td>718</td>\n",
       "      <td>10608</td>\n",
       "      <td>295.0</td>\n",
       "      <td>NaN</td>\n",
       "      <td>Bantam Books</td>\n",
       "    </tr>\n",
       "    <tr>\n",
       "      <th>11098</th>\n",
       "      <td>45531</td>\n",
       "      <td>Montaillou  village occitan de 1294 � 13</td>\n",
       "      <td>Emmanuel Le Roy Ladurie/Emmanuel Le Roy-Ladurie</td>\n",
       "      <td>3.96</td>\n",
       "      <td>fre</td>\n",
       "      <td>640</td>\n",
       "      <td>15</td>\n",
       "      <td>2.0</td>\n",
       "      <td>NaN</td>\n",
       "      <td>Folio histoire</td>\n",
       "    </tr>\n",
       "  </tbody>\n",
       "</table>\n",
       "</div>"
      ],
      "text/plain": [
       "       bookID                                              title  \\\n",
       "8180    31373  In Pursuit of the Proper Sinner (Inspector Lyn...   \n",
       "11098   45531           Montaillou  village occitan de 1294 � 13   \n",
       "\n",
       "                                               authors  average_rating  \\\n",
       "8180                                 Elizabeth  George            4.10   \n",
       "11098  Emmanuel Le Roy Ladurie/Emmanuel Le Roy-Ladurie            3.96   \n",
       "\n",
       "      language_code  num_pages  ratings_count  text_reviews_count  \\\n",
       "8180            eng        718          10608               295.0   \n",
       "11098           fre        640             15                 2.0   \n",
       "\n",
       "      publication_date       publisher  \n",
       "8180               NaN    Bantam Books  \n",
       "11098              NaN  Folio histoire  "
      ]
     },
     "execution_count": 16,
     "metadata": {},
     "output_type": "execute_result"
    }
   ],
   "source": [
    "# Look for null values in publication date\n",
    "books.loc[books.publication_date.isna(),:]"
   ]
  },
  {
   "cell_type": "code",
   "execution_count": 17,
   "id": "144974ef",
   "metadata": {
    "scrolled": true
   },
   "outputs": [
    {
     "data": {
      "text/plain": [
       "(11127, 10)"
      ]
     },
     "execution_count": 17,
     "metadata": {},
     "output_type": "execute_result"
    }
   ],
   "source": [
    "# Number of DataFrame rows and columns (including NA elements)\n",
    "books.shape"
   ]
  },
  {
   "cell_type": "code",
   "execution_count": 18,
   "id": "3e18bba5",
   "metadata": {},
   "outputs": [
    {
     "data": {
      "text/html": [
       "<div>\n",
       "<style scoped>\n",
       "    .dataframe tbody tr th:only-of-type {\n",
       "        vertical-align: middle;\n",
       "    }\n",
       "\n",
       "    .dataframe tbody tr th {\n",
       "        vertical-align: top;\n",
       "    }\n",
       "\n",
       "    .dataframe thead th {\n",
       "        text-align: right;\n",
       "    }\n",
       "</style>\n",
       "<table border=\"1\" class=\"dataframe\">\n",
       "  <thead>\n",
       "    <tr style=\"text-align: right;\">\n",
       "      <th></th>\n",
       "      <th>bookID</th>\n",
       "      <th>title</th>\n",
       "      <th>authors</th>\n",
       "      <th>average_rating</th>\n",
       "      <th>language_code</th>\n",
       "      <th>num_pages</th>\n",
       "      <th>ratings_count</th>\n",
       "      <th>text_reviews_count</th>\n",
       "      <th>publication_date</th>\n",
       "      <th>publisher</th>\n",
       "    </tr>\n",
       "  </thead>\n",
       "  <tbody>\n",
       "    <tr>\n",
       "      <th>11096</th>\n",
       "      <td>45529</td>\n",
       "      <td>Montaillou: The Promised Land of Error</td>\n",
       "      <td>Emmanuel Le Roy Ladurie/Barbara Bray</td>\n",
       "      <td>3.96</td>\n",
       "      <td>eng</td>\n",
       "      <td>416</td>\n",
       "      <td>1142</td>\n",
       "      <td>62.0</td>\n",
       "      <td>7/12/1979</td>\n",
       "      <td>Vintage/Random House (NY)</td>\n",
       "    </tr>\n",
       "    <tr>\n",
       "      <th>11097</th>\n",
       "      <td>45530</td>\n",
       "      <td>Montaillou: Cathars and Catholics in a French ...</td>\n",
       "      <td>Emmanuel Le Roy Ladurie/Barbara Bray</td>\n",
       "      <td>3.96</td>\n",
       "      <td>eng</td>\n",
       "      <td>400</td>\n",
       "      <td>80</td>\n",
       "      <td>14.0</td>\n",
       "      <td>12/5/2002</td>\n",
       "      <td>Penguin</td>\n",
       "    </tr>\n",
       "    <tr>\n",
       "      <th>11098</th>\n",
       "      <td>45531</td>\n",
       "      <td>Montaillou  village occitan de 1294 � 13</td>\n",
       "      <td>Emmanuel Le Roy Ladurie/Emmanuel Le Roy-Ladurie</td>\n",
       "      <td>3.96</td>\n",
       "      <td>fre</td>\n",
       "      <td>640</td>\n",
       "      <td>15</td>\n",
       "      <td>2.0</td>\n",
       "      <td>NaN</td>\n",
       "      <td>Folio histoire</td>\n",
       "    </tr>\n",
       "    <tr>\n",
       "      <th>11099</th>\n",
       "      <td>45533</td>\n",
       "      <td>Montaillou: Cathars and Catholics in a French ...</td>\n",
       "      <td>Emmanuel Le Roy Ladurie/Barbara Bray</td>\n",
       "      <td>3.96</td>\n",
       "      <td>eng</td>\n",
       "      <td>400</td>\n",
       "      <td>17</td>\n",
       "      <td>2.0</td>\n",
       "      <td>5/29/1980</td>\n",
       "      <td>Penguin Books Ltd.</td>\n",
       "    </tr>\n",
       "  </tbody>\n",
       "</table>\n",
       "</div>"
      ],
      "text/plain": [
       "       bookID                                              title  \\\n",
       "11096   45529             Montaillou: The Promised Land of Error   \n",
       "11097   45530  Montaillou: Cathars and Catholics in a French ...   \n",
       "11098   45531           Montaillou  village occitan de 1294 � 13   \n",
       "11099   45533  Montaillou: Cathars and Catholics in a French ...   \n",
       "\n",
       "                                               authors  average_rating  \\\n",
       "11096             Emmanuel Le Roy Ladurie/Barbara Bray            3.96   \n",
       "11097             Emmanuel Le Roy Ladurie/Barbara Bray            3.96   \n",
       "11098  Emmanuel Le Roy Ladurie/Emmanuel Le Roy-Ladurie            3.96   \n",
       "11099             Emmanuel Le Roy Ladurie/Barbara Bray            3.96   \n",
       "\n",
       "      language_code  num_pages  ratings_count  text_reviews_count  \\\n",
       "11096           eng        416           1142                62.0   \n",
       "11097           eng        400             80                14.0   \n",
       "11098           fre        640             15                 2.0   \n",
       "11099           eng        400             17                 2.0   \n",
       "\n",
       "      publication_date                  publisher  \n",
       "11096        7/12/1979  Vintage/Random House (NY)  \n",
       "11097        12/5/2002                    Penguin  \n",
       "11098              NaN             Folio histoire  \n",
       "11099        5/29/1980         Penguin Books Ltd.  "
      ]
     },
     "execution_count": 18,
     "metadata": {},
     "output_type": "execute_result"
    }
   ],
   "source": [
    "#mozda OD PRIJ DRUGI KOD UPOTRIJBIT ZA TO\n",
    "# Determine records with the same title but without null publication date. To replace the null date. \n",
    "books[books['title'].str.contains('Montaillou', na=False)]"
   ]
  },
  {
   "cell_type": "code",
   "execution_count": 19,
   "id": "e821e010",
   "metadata": {},
   "outputs": [],
   "source": [
    "# Clean the column \"publication_date\"\n",
    "#Remove the records that have publication_date null\n",
    "books = books.loc[books['publication_date'].notna(),:]"
   ]
  },
  {
   "cell_type": "code",
   "execution_count": 20,
   "id": "5c3378bb",
   "metadata": {},
   "outputs": [
    {
     "data": {
      "text/plain": [
       "Series([], Name: publication_date, dtype: object)"
      ]
     },
     "execution_count": 20,
     "metadata": {},
     "output_type": "execute_result"
    }
   ],
   "source": [
    "# Clean incorrect date value \n",
    "books.loc[books['publication_date']==\"1/1/1900 0:00\",\"publication_date\"]"
   ]
  },
  {
   "cell_type": "code",
   "execution_count": 21,
   "id": "9bce84ba",
   "metadata": {},
   "outputs": [],
   "source": [
    "# Convert object/string to date type\n",
    "books.loc[:,\"Date\"] = pd.to_datetime(books['publication_date'])"
   ]
  },
  {
   "cell_type": "code",
   "execution_count": 22,
   "id": "c3d976a8",
   "metadata": {},
   "outputs": [],
   "source": [
    "# Select month from the date  \n",
    "books['month'] = books['Date'].dt.month"
   ]
  },
  {
   "cell_type": "code",
   "execution_count": 23,
   "id": "a8c552fd",
   "metadata": {},
   "outputs": [],
   "source": [
    "# Select year from the date\n",
    "books['year'] = books['Date'].dt.year"
   ]
  },
  {
   "cell_type": "code",
   "execution_count": 24,
   "id": "21731f96",
   "metadata": {},
   "outputs": [
    {
     "data": {
      "text/plain": [
       "bookID                         int64\n",
       "title                         object\n",
       "authors                       object\n",
       "average_rating               float64\n",
       "language_code                 object\n",
       "num_pages                      int64\n",
       "ratings_count                  int64\n",
       "text_reviews_count           float64\n",
       "publication_date              object\n",
       "publisher                     object\n",
       "Date                  datetime64[ns]\n",
       "month                          int64\n",
       "year                           int64\n",
       "dtype: object"
      ]
     },
     "execution_count": 24,
     "metadata": {},
     "output_type": "execute_result"
    }
   ],
   "source": [
    "# View the data types\n",
    "books.dtypes"
   ]
  },
  {
   "cell_type": "code",
   "execution_count": 25,
   "id": "4da9b425",
   "metadata": {
    "scrolled": true
   },
   "outputs": [
    {
     "data": {
      "text/html": [
       "<div>\n",
       "<style scoped>\n",
       "    .dataframe tbody tr th:only-of-type {\n",
       "        vertical-align: middle;\n",
       "    }\n",
       "\n",
       "    .dataframe tbody tr th {\n",
       "        vertical-align: top;\n",
       "    }\n",
       "\n",
       "    .dataframe thead th {\n",
       "        text-align: right;\n",
       "    }\n",
       "</style>\n",
       "<table border=\"1\" class=\"dataframe\">\n",
       "  <thead>\n",
       "    <tr style=\"text-align: right;\">\n",
       "      <th></th>\n",
       "      <th>bookID</th>\n",
       "      <th>title</th>\n",
       "      <th>authors</th>\n",
       "      <th>average_rating</th>\n",
       "      <th>language_code</th>\n",
       "      <th>num_pages</th>\n",
       "      <th>ratings_count</th>\n",
       "      <th>text_reviews_count</th>\n",
       "      <th>publication_date</th>\n",
       "      <th>publisher</th>\n",
       "      <th>Date</th>\n",
       "      <th>month</th>\n",
       "      <th>year</th>\n",
       "    </tr>\n",
       "  </thead>\n",
       "  <tbody>\n",
       "    <tr>\n",
       "      <th>0</th>\n",
       "      <td>1</td>\n",
       "      <td>Harry Potter and the Half-Blood Prince (Harry ...</td>\n",
       "      <td>J.K. Rowling/Mary GrandPr?</td>\n",
       "      <td>4.57</td>\n",
       "      <td>eng</td>\n",
       "      <td>652</td>\n",
       "      <td>2095690</td>\n",
       "      <td>27591.0</td>\n",
       "      <td>9/16/2006</td>\n",
       "      <td>Scholastic Inc.</td>\n",
       "      <td>2006-09-16</td>\n",
       "      <td>9</td>\n",
       "      <td>2006</td>\n",
       "    </tr>\n",
       "    <tr>\n",
       "      <th>1</th>\n",
       "      <td>2</td>\n",
       "      <td>Harry Potter and the Order of the Phoenix (Har...</td>\n",
       "      <td>J.K. Rowling/Mary GrandPr?</td>\n",
       "      <td>4.49</td>\n",
       "      <td>eng</td>\n",
       "      <td>870</td>\n",
       "      <td>2153167</td>\n",
       "      <td>29221.0</td>\n",
       "      <td>9/1/2004</td>\n",
       "      <td>Scholastic Inc.</td>\n",
       "      <td>2004-09-01</td>\n",
       "      <td>9</td>\n",
       "      <td>2004</td>\n",
       "    </tr>\n",
       "    <tr>\n",
       "      <th>2</th>\n",
       "      <td>4</td>\n",
       "      <td>Harry Potter and the Chamber of Secrets (Harry...</td>\n",
       "      <td>J.K. Rowling</td>\n",
       "      <td>4.42</td>\n",
       "      <td>eng</td>\n",
       "      <td>352</td>\n",
       "      <td>6333</td>\n",
       "      <td>244.0</td>\n",
       "      <td>11/1/2003</td>\n",
       "      <td>Scholastic</td>\n",
       "      <td>2003-11-01</td>\n",
       "      <td>11</td>\n",
       "      <td>2003</td>\n",
       "    </tr>\n",
       "    <tr>\n",
       "      <th>3</th>\n",
       "      <td>5</td>\n",
       "      <td>Harry Potter and the Prisoner of Azkaban (Harr...</td>\n",
       "      <td>J.K. Rowling/Mary GrandPr?</td>\n",
       "      <td>4.56</td>\n",
       "      <td>eng</td>\n",
       "      <td>435</td>\n",
       "      <td>2339585</td>\n",
       "      <td>36325.0</td>\n",
       "      <td>5/1/2004</td>\n",
       "      <td>Scholastic Inc.</td>\n",
       "      <td>2004-05-01</td>\n",
       "      <td>5</td>\n",
       "      <td>2004</td>\n",
       "    </tr>\n",
       "    <tr>\n",
       "      <th>4</th>\n",
       "      <td>8</td>\n",
       "      <td>Harry Potter Boxed Set  Books 1-5 (Harry Potte...</td>\n",
       "      <td>J.K. Rowling/Mary GrandPr?</td>\n",
       "      <td>4.78</td>\n",
       "      <td>eng</td>\n",
       "      <td>2690</td>\n",
       "      <td>41428</td>\n",
       "      <td>164.0</td>\n",
       "      <td>9/13/2004</td>\n",
       "      <td>Scholastic</td>\n",
       "      <td>2004-09-13</td>\n",
       "      <td>9</td>\n",
       "      <td>2004</td>\n",
       "    </tr>\n",
       "  </tbody>\n",
       "</table>\n",
       "</div>"
      ],
      "text/plain": [
       "   bookID                                              title  \\\n",
       "0       1  Harry Potter and the Half-Blood Prince (Harry ...   \n",
       "1       2  Harry Potter and the Order of the Phoenix (Har...   \n",
       "2       4  Harry Potter and the Chamber of Secrets (Harry...   \n",
       "3       5  Harry Potter and the Prisoner of Azkaban (Harr...   \n",
       "4       8  Harry Potter Boxed Set  Books 1-5 (Harry Potte...   \n",
       "\n",
       "                      authors  average_rating language_code  num_pages  \\\n",
       "0  J.K. Rowling/Mary GrandPr?            4.57           eng        652   \n",
       "1  J.K. Rowling/Mary GrandPr?            4.49           eng        870   \n",
       "2                J.K. Rowling            4.42           eng        352   \n",
       "3  J.K. Rowling/Mary GrandPr?            4.56           eng        435   \n",
       "4  J.K. Rowling/Mary GrandPr?            4.78           eng       2690   \n",
       "\n",
       "   ratings_count  text_reviews_count publication_date        publisher  \\\n",
       "0        2095690             27591.0        9/16/2006  Scholastic Inc.   \n",
       "1        2153167             29221.0         9/1/2004  Scholastic Inc.   \n",
       "2           6333               244.0        11/1/2003       Scholastic   \n",
       "3        2339585             36325.0         5/1/2004  Scholastic Inc.   \n",
       "4          41428               164.0        9/13/2004       Scholastic   \n",
       "\n",
       "        Date  month  year  \n",
       "0 2006-09-16      9  2006  \n",
       "1 2004-09-01      9  2004  \n",
       "2 2003-11-01     11  2003  \n",
       "3 2004-05-01      5  2004  \n",
       "4 2004-09-13      9  2004  "
      ]
     },
     "execution_count": 25,
     "metadata": {},
     "output_type": "execute_result"
    }
   ],
   "source": [
    "# View the dataframe after data cleaning\n",
    "books.head()"
   ]
  },
  {
   "cell_type": "code",
   "execution_count": 26,
   "id": "30b139a8",
   "metadata": {},
   "outputs": [],
   "source": [
    "# Drop the columns \"publication_date\" and \"Date\", because it has been transformed to year and month \n",
    "books = books.drop([\"publication_date\",\"Date\"],axis=1)"
   ]
  },
  {
   "cell_type": "code",
   "execution_count": 27,
   "id": "ff867ea0",
   "metadata": {},
   "outputs": [],
   "source": [
    "# Clean the column \"Authors\""
   ]
  },
  {
   "cell_type": "code",
   "execution_count": 28,
   "id": "392f5620",
   "metadata": {},
   "outputs": [],
   "source": [
    "# Form a function to identify \"/,C\" in the column \"Authors\"\n",
    "def Update_strings(name):\n",
    "    if name.find(\"/\") != -1:\n",
    "      author_name = name.split(\"/\")[0]\n",
    "    elif name.find(\"(\") != -1:\n",
    "      author_name = name.split(\"(\")[0]  \n",
    "    else:\n",
    "      author_name = name\n",
    "    return author_name\n",
    "   "
   ]
  },
  {
   "cell_type": "code",
   "execution_count": 29,
   "id": "1459b250",
   "metadata": {},
   "outputs": [],
   "source": [
    "# Transform the \"author\" column information to have only one author by picking the first name before the '/' or '('\n",
    "books.loc[:,\"authors\"] = books.loc[:,\"authors\"].apply(Update_strings)"
   ]
  },
  {
   "cell_type": "code",
   "execution_count": 30,
   "id": "190c8c63",
   "metadata": {},
   "outputs": [],
   "source": [
    "#Clean the column \"Title\""
   ]
  },
  {
   "cell_type": "code",
   "execution_count": 31,
   "id": "b8342c2c",
   "metadata": {},
   "outputs": [],
   "source": [
    "# Form function to replace special characters such as \"!$%^&*\" with white space and also '&' with and\n",
    "def processString(txt):\n",
    "  specialCharacters = \"!$%^&*¡¿\" \n",
    "  for specialChar in specialCharacters:\n",
    "    if specialChar == '&':\n",
    "        txt = txt.replace('&',' and ') \n",
    "    else:\n",
    "        txt = txt.replace(specialChar, ' ')\n",
    "  return txt"
   ]
  },
  {
   "cell_type": "code",
   "execution_count": 32,
   "id": "dc8089d1",
   "metadata": {},
   "outputs": [],
   "source": [
    "# Update the title column data to bring uniformity to the column \"title\"\n",
    "books.loc[:,\"New_title\"]= books.loc[:,\"title\"].apply(processString)"
   ]
  },
  {
   "cell_type": "code",
   "execution_count": 33,
   "id": "7453cd1b",
   "metadata": {},
   "outputs": [],
   "source": [
    "# Replace double white spaces with single white space\n",
    "books['New_title'] = books['New_title'].str.replace('  ',' ')"
   ]
  },
  {
   "cell_type": "code",
   "execution_count": 34,
   "id": "717e4b8d",
   "metadata": {},
   "outputs": [],
   "source": [
    "# Form a new title column name: new_title to pick the first name of the title\n",
    "books.loc[:,\"New_title\"]= books.loc[:,\"New_title\"].apply(Update_strings)"
   ]
  },
  {
   "cell_type": "code",
   "execution_count": 35,
   "id": "af4e784a",
   "metadata": {
    "scrolled": true
   },
   "outputs": [
    {
     "data": {
      "text/plain": [
       "The Iliad                                      9\n",
       "The Brothers Karamazov                         9\n",
       "Gulliver's Travels                             8\n",
       "The Odyssey                                    8\n",
       "Anna Karenina                                  8\n",
       "                                              ..\n",
       "Wildwood Dancing (Wildwood  #1)                1\n",
       "The Noonday Demon: An Atlas of Depression      1\n",
       "The Noonday Demon: An Anatomy of Depression    1\n",
       "My Secret: A PostSecret Book                   1\n",
       "Las aventuras de Tom Sawyer                    1\n",
       "Name: title, Length: 10349, dtype: int64"
      ]
     },
     "execution_count": 35,
     "metadata": {},
     "output_type": "execute_result"
    }
   ],
   "source": [
    "# The number of counts for each title\n",
    "books.title.value_counts()"
   ]
  },
  {
   "cell_type": "code",
   "execution_count": 36,
   "id": "83946752",
   "metadata": {},
   "outputs": [
    {
     "data": {
      "text/plain": [
       "bookID                0\n",
       "title                 0\n",
       "authors               0\n",
       "average_rating        0\n",
       "language_code         4\n",
       "num_pages             0\n",
       "ratings_count         0\n",
       "text_reviews_count    4\n",
       "publisher             4\n",
       "month                 0\n",
       "year                  0\n",
       "New_title             0\n",
       "dtype: int64"
      ]
     },
     "execution_count": 36,
     "metadata": {},
     "output_type": "execute_result"
    }
   ],
   "source": [
    "# Check for null values\n",
    "books.isna().sum()"
   ]
  },
  {
   "cell_type": "code",
   "execution_count": 37,
   "id": "2e3b9edb",
   "metadata": {},
   "outputs": [
    {
     "data": {
      "text/html": [
       "<div>\n",
       "<style scoped>\n",
       "    .dataframe tbody tr th:only-of-type {\n",
       "        vertical-align: middle;\n",
       "    }\n",
       "\n",
       "    .dataframe tbody tr th {\n",
       "        vertical-align: top;\n",
       "    }\n",
       "\n",
       "    .dataframe thead th {\n",
       "        text-align: right;\n",
       "    }\n",
       "</style>\n",
       "<table border=\"1\" class=\"dataframe\">\n",
       "  <thead>\n",
       "    <tr style=\"text-align: right;\">\n",
       "      <th></th>\n",
       "      <th>title</th>\n",
       "      <th>New_title</th>\n",
       "    </tr>\n",
       "  </thead>\n",
       "  <tbody>\n",
       "    <tr>\n",
       "      <th>0</th>\n",
       "      <td>Harry Potter and the Half-Blood Prince (Harry ...</td>\n",
       "      <td>Harry Potter and the Half-Blood Prince</td>\n",
       "    </tr>\n",
       "    <tr>\n",
       "      <th>1</th>\n",
       "      <td>Harry Potter and the Order of the Phoenix (Har...</td>\n",
       "      <td>Harry Potter and the Order of the Phoenix</td>\n",
       "    </tr>\n",
       "    <tr>\n",
       "      <th>2</th>\n",
       "      <td>Harry Potter and the Chamber of Secrets (Harry...</td>\n",
       "      <td>Harry Potter and the Chamber of Secrets</td>\n",
       "    </tr>\n",
       "    <tr>\n",
       "      <th>3</th>\n",
       "      <td>Harry Potter and the Prisoner of Azkaban (Harr...</td>\n",
       "      <td>Harry Potter and the Prisoner of Azkaban</td>\n",
       "    </tr>\n",
       "    <tr>\n",
       "      <th>4</th>\n",
       "      <td>Harry Potter Boxed Set  Books 1-5 (Harry Potte...</td>\n",
       "      <td>Harry Potter Boxed Set Books 1-5</td>\n",
       "    </tr>\n",
       "    <tr>\n",
       "      <th>...</th>\n",
       "      <td>...</td>\n",
       "      <td>...</td>\n",
       "    </tr>\n",
       "    <tr>\n",
       "      <th>11122</th>\n",
       "      <td>Expelled from Eden: A William T. Vollmann Reader</td>\n",
       "      <td>Expelled from Eden: A William T. Vollmann Reader</td>\n",
       "    </tr>\n",
       "    <tr>\n",
       "      <th>11123</th>\n",
       "      <td>You Bright and Risen Angels</td>\n",
       "      <td>You Bright and Risen Angels</td>\n",
       "    </tr>\n",
       "    <tr>\n",
       "      <th>11124</th>\n",
       "      <td>The Ice-Shirt (Seven Dreams #1)</td>\n",
       "      <td>The Ice-Shirt</td>\n",
       "    </tr>\n",
       "    <tr>\n",
       "      <th>11125</th>\n",
       "      <td>Poor People</td>\n",
       "      <td>Poor People</td>\n",
       "    </tr>\n",
       "    <tr>\n",
       "      <th>11126</th>\n",
       "      <td>Las aventuras de Tom Sawyer</td>\n",
       "      <td>Las aventuras de Tom Sawyer</td>\n",
       "    </tr>\n",
       "  </tbody>\n",
       "</table>\n",
       "<p>11125 rows × 2 columns</p>\n",
       "</div>"
      ],
      "text/plain": [
       "                                                   title  \\\n",
       "0      Harry Potter and the Half-Blood Prince (Harry ...   \n",
       "1      Harry Potter and the Order of the Phoenix (Har...   \n",
       "2      Harry Potter and the Chamber of Secrets (Harry...   \n",
       "3      Harry Potter and the Prisoner of Azkaban (Harr...   \n",
       "4      Harry Potter Boxed Set  Books 1-5 (Harry Potte...   \n",
       "...                                                  ...   \n",
       "11122   Expelled from Eden: A William T. Vollmann Reader   \n",
       "11123                        You Bright and Risen Angels   \n",
       "11124                    The Ice-Shirt (Seven Dreams #1)   \n",
       "11125                                        Poor People   \n",
       "11126                        Las aventuras de Tom Sawyer   \n",
       "\n",
       "                                              New_title  \n",
       "0               Harry Potter and the Half-Blood Prince   \n",
       "1            Harry Potter and the Order of the Phoenix   \n",
       "2              Harry Potter and the Chamber of Secrets   \n",
       "3             Harry Potter and the Prisoner of Azkaban   \n",
       "4                     Harry Potter Boxed Set Books 1-5   \n",
       "...                                                 ...  \n",
       "11122  Expelled from Eden: A William T. Vollmann Reader  \n",
       "11123                       You Bright and Risen Angels  \n",
       "11124                                    The Ice-Shirt   \n",
       "11125                                       Poor People  \n",
       "11126                       Las aventuras de Tom Sawyer  \n",
       "\n",
       "[11125 rows x 2 columns]"
      ]
     },
     "execution_count": 37,
     "metadata": {},
     "output_type": "execute_result"
    }
   ],
   "source": [
    "# Look the \"title\" transformation\n",
    "books[[\"title\",\"New_title\"]]"
   ]
  },
  {
   "cell_type": "code",
   "execution_count": 38,
   "id": "e4d5ccca",
   "metadata": {
    "scrolled": false
   },
   "outputs": [
    {
     "data": {
      "text/html": [
       "<div>\n",
       "<style scoped>\n",
       "    .dataframe tbody tr th:only-of-type {\n",
       "        vertical-align: middle;\n",
       "    }\n",
       "\n",
       "    .dataframe tbody tr th {\n",
       "        vertical-align: top;\n",
       "    }\n",
       "\n",
       "    .dataframe thead th {\n",
       "        text-align: right;\n",
       "    }\n",
       "</style>\n",
       "<table border=\"1\" class=\"dataframe\">\n",
       "  <thead>\n",
       "    <tr style=\"text-align: right;\">\n",
       "      <th></th>\n",
       "      <th>bookID</th>\n",
       "      <th>title</th>\n",
       "      <th>authors</th>\n",
       "      <th>average_rating</th>\n",
       "      <th>language_code</th>\n",
       "      <th>num_pages</th>\n",
       "      <th>ratings_count</th>\n",
       "      <th>text_reviews_count</th>\n",
       "      <th>publisher</th>\n",
       "      <th>month</th>\n",
       "      <th>year</th>\n",
       "      <th>New_title</th>\n",
       "    </tr>\n",
       "  </thead>\n",
       "  <tbody>\n",
       "    <tr>\n",
       "      <th>3348</th>\n",
       "      <td>12224</td>\n",
       "      <td>Streetcar Suburbs: The Process of Growth in Bo...</td>\n",
       "      <td>Sam Bass Warner</td>\n",
       "      <td>3.58</td>\n",
       "      <td>NaN</td>\n",
       "      <td>236</td>\n",
       "      <td>61</td>\n",
       "      <td>NaN</td>\n",
       "      <td>NaN</td>\n",
       "      <td>4</td>\n",
       "      <td>2004</td>\n",
       "      <td>Streetcar Suburbs: The Process of Growth in Bo...</td>\n",
       "    </tr>\n",
       "    <tr>\n",
       "      <th>4702</th>\n",
       "      <td>16914</td>\n",
       "      <td>The Tolkien Fan's Medieval Reader</td>\n",
       "      <td>David E. Smith</td>\n",
       "      <td>3.58</td>\n",
       "      <td>NaN</td>\n",
       "      <td>400</td>\n",
       "      <td>26</td>\n",
       "      <td>NaN</td>\n",
       "      <td>NaN</td>\n",
       "      <td>4</td>\n",
       "      <td>2004</td>\n",
       "      <td>The Tolkien Fan's Medieval Reader</td>\n",
       "    </tr>\n",
       "    <tr>\n",
       "      <th>5877</th>\n",
       "      <td>22128</td>\n",
       "      <td>Patriots (The Coming Collapse)</td>\n",
       "      <td>James Wesley</td>\n",
       "      <td>3.63</td>\n",
       "      <td>NaN</td>\n",
       "      <td>342</td>\n",
       "      <td>38</td>\n",
       "      <td>NaN</td>\n",
       "      <td>NaN</td>\n",
       "      <td>1</td>\n",
       "      <td>1999</td>\n",
       "      <td>Patriots</td>\n",
       "    </tr>\n",
       "    <tr>\n",
       "      <th>8979</th>\n",
       "      <td>34889</td>\n",
       "      <td>Brown's Star Atlas: Showing All The Bright Sta...</td>\n",
       "      <td>Brown</td>\n",
       "      <td>0.00</td>\n",
       "      <td>NaN</td>\n",
       "      <td>49</td>\n",
       "      <td>0</td>\n",
       "      <td>NaN</td>\n",
       "      <td>NaN</td>\n",
       "      <td>5</td>\n",
       "      <td>1977</td>\n",
       "      <td>Brown's Star Atlas: Showing All The Bright Sta...</td>\n",
       "    </tr>\n",
       "  </tbody>\n",
       "</table>\n",
       "</div>"
      ],
      "text/plain": [
       "      bookID                                              title  \\\n",
       "3348   12224  Streetcar Suburbs: The Process of Growth in Bo...   \n",
       "4702   16914                  The Tolkien Fan's Medieval Reader   \n",
       "5877   22128                     Patriots (The Coming Collapse)   \n",
       "8979   34889  Brown's Star Atlas: Showing All The Bright Sta...   \n",
       "\n",
       "              authors  average_rating language_code  num_pages  ratings_count  \\\n",
       "3348  Sam Bass Warner            3.58           NaN        236             61   \n",
       "4702  David E. Smith             3.58           NaN        400             26   \n",
       "5877     James Wesley            3.63           NaN        342             38   \n",
       "8979            Brown            0.00           NaN         49              0   \n",
       "\n",
       "      text_reviews_count publisher  month  year  \\\n",
       "3348                 NaN       NaN      4  2004   \n",
       "4702                 NaN       NaN      4  2004   \n",
       "5877                 NaN       NaN      1  1999   \n",
       "8979                 NaN       NaN      5  1977   \n",
       "\n",
       "                                              New_title  \n",
       "3348  Streetcar Suburbs: The Process of Growth in Bo...  \n",
       "4702                  The Tolkien Fan's Medieval Reader  \n",
       "5877                                          Patriots   \n",
       "8979  Brown's Star Atlas: Showing All The Bright Sta...  "
      ]
     },
     "execution_count": 38,
     "metadata": {},
     "output_type": "execute_result"
    }
   ],
   "source": [
    "# View null values of publisher,text_reviews_count,language_code \n",
    "books.loc[books.language_code.isna(),:]"
   ]
  },
  {
   "cell_type": "code",
   "execution_count": 39,
   "id": "cd651cd5",
   "metadata": {},
   "outputs": [],
   "source": [
    "# Drop records for null values of \"text_reviews_count\"\n",
    "books = books.loc[books['text_reviews_count'].notna(),:]"
   ]
  },
  {
   "cell_type": "code",
   "execution_count": 40,
   "id": "39ea00e1",
   "metadata": {},
   "outputs": [],
   "source": [
    "# Drop records for null values of \"language_code\"\n",
    "books = books.loc[books[\"language_code\"].notna(),:]"
   ]
  },
  {
   "cell_type": "code",
   "execution_count": 41,
   "id": "ff033ccd",
   "metadata": {},
   "outputs": [],
   "source": [
    "# Drop the columns publisher from the dataframe\n",
    "books = books.drop([\"publisher\"],axis=1)"
   ]
  },
  {
   "cell_type": "code",
   "execution_count": 42,
   "id": "32415ac7",
   "metadata": {},
   "outputs": [
    {
     "data": {
      "text/plain": [
       "bookID                  int64\n",
       "title                  object\n",
       "authors                object\n",
       "average_rating        float64\n",
       "language_code          object\n",
       "num_pages               int64\n",
       "ratings_count           int64\n",
       "text_reviews_count    float64\n",
       "month                   int64\n",
       "year                    int64\n",
       "New_title              object\n",
       "dtype: object"
      ]
     },
     "execution_count": 42,
     "metadata": {},
     "output_type": "execute_result"
    }
   ],
   "source": [
    "# View the data types for the columns\n",
    "books.dtypes"
   ]
  },
  {
   "cell_type": "code",
   "execution_count": 43,
   "id": "d0f27ba9",
   "metadata": {},
   "outputs": [
    {
     "data": {
      "text/html": [
       "<div>\n",
       "<style scoped>\n",
       "    .dataframe tbody tr th:only-of-type {\n",
       "        vertical-align: middle;\n",
       "    }\n",
       "\n",
       "    .dataframe tbody tr th {\n",
       "        vertical-align: top;\n",
       "    }\n",
       "\n",
       "    .dataframe thead th {\n",
       "        text-align: right;\n",
       "    }\n",
       "</style>\n",
       "<table border=\"1\" class=\"dataframe\">\n",
       "  <thead>\n",
       "    <tr style=\"text-align: right;\">\n",
       "      <th></th>\n",
       "      <th>bookID</th>\n",
       "      <th>title</th>\n",
       "      <th>authors</th>\n",
       "      <th>average_rating</th>\n",
       "      <th>language_code</th>\n",
       "      <th>num_pages</th>\n",
       "      <th>ratings_count</th>\n",
       "      <th>text_reviews_count</th>\n",
       "      <th>month</th>\n",
       "      <th>year</th>\n",
       "    </tr>\n",
       "  </thead>\n",
       "  <tbody>\n",
       "    <tr>\n",
       "      <th>0</th>\n",
       "      <td>1</td>\n",
       "      <td>Harry Potter and the Half-Blood Prince</td>\n",
       "      <td>J.K. Rowling</td>\n",
       "      <td>4.57</td>\n",
       "      <td>eng</td>\n",
       "      <td>652</td>\n",
       "      <td>2095690</td>\n",
       "      <td>27591.0</td>\n",
       "      <td>9</td>\n",
       "      <td>2006</td>\n",
       "    </tr>\n",
       "    <tr>\n",
       "      <th>1</th>\n",
       "      <td>2</td>\n",
       "      <td>Harry Potter and the Order of the Phoenix</td>\n",
       "      <td>J.K. Rowling</td>\n",
       "      <td>4.49</td>\n",
       "      <td>eng</td>\n",
       "      <td>870</td>\n",
       "      <td>2153167</td>\n",
       "      <td>29221.0</td>\n",
       "      <td>9</td>\n",
       "      <td>2004</td>\n",
       "    </tr>\n",
       "    <tr>\n",
       "      <th>2</th>\n",
       "      <td>4</td>\n",
       "      <td>Harry Potter and the Chamber of Secrets</td>\n",
       "      <td>J.K. Rowling</td>\n",
       "      <td>4.42</td>\n",
       "      <td>eng</td>\n",
       "      <td>352</td>\n",
       "      <td>6333</td>\n",
       "      <td>244.0</td>\n",
       "      <td>11</td>\n",
       "      <td>2003</td>\n",
       "    </tr>\n",
       "    <tr>\n",
       "      <th>3</th>\n",
       "      <td>5</td>\n",
       "      <td>Harry Potter and the Prisoner of Azkaban</td>\n",
       "      <td>J.K. Rowling</td>\n",
       "      <td>4.56</td>\n",
       "      <td>eng</td>\n",
       "      <td>435</td>\n",
       "      <td>2339585</td>\n",
       "      <td>36325.0</td>\n",
       "      <td>5</td>\n",
       "      <td>2004</td>\n",
       "    </tr>\n",
       "    <tr>\n",
       "      <th>4</th>\n",
       "      <td>8</td>\n",
       "      <td>Harry Potter Boxed Set Books 1-5</td>\n",
       "      <td>J.K. Rowling</td>\n",
       "      <td>4.78</td>\n",
       "      <td>eng</td>\n",
       "      <td>2690</td>\n",
       "      <td>41428</td>\n",
       "      <td>164.0</td>\n",
       "      <td>9</td>\n",
       "      <td>2004</td>\n",
       "    </tr>\n",
       "    <tr>\n",
       "      <th>...</th>\n",
       "      <td>...</td>\n",
       "      <td>...</td>\n",
       "      <td>...</td>\n",
       "      <td>...</td>\n",
       "      <td>...</td>\n",
       "      <td>...</td>\n",
       "      <td>...</td>\n",
       "      <td>...</td>\n",
       "      <td>...</td>\n",
       "      <td>...</td>\n",
       "    </tr>\n",
       "    <tr>\n",
       "      <th>11122</th>\n",
       "      <td>45631</td>\n",
       "      <td>Expelled from Eden: A William T. Vollmann Reader</td>\n",
       "      <td>William T. Vollmann</td>\n",
       "      <td>4.06</td>\n",
       "      <td>eng</td>\n",
       "      <td>512</td>\n",
       "      <td>156</td>\n",
       "      <td>20.0</td>\n",
       "      <td>12</td>\n",
       "      <td>2004</td>\n",
       "    </tr>\n",
       "    <tr>\n",
       "      <th>11123</th>\n",
       "      <td>45633</td>\n",
       "      <td>You Bright and Risen Angels</td>\n",
       "      <td>William T. Vollmann</td>\n",
       "      <td>4.08</td>\n",
       "      <td>eng</td>\n",
       "      <td>635</td>\n",
       "      <td>783</td>\n",
       "      <td>56.0</td>\n",
       "      <td>12</td>\n",
       "      <td>1988</td>\n",
       "    </tr>\n",
       "    <tr>\n",
       "      <th>11124</th>\n",
       "      <td>45634</td>\n",
       "      <td>The Ice-Shirt</td>\n",
       "      <td>William T. Vollmann</td>\n",
       "      <td>3.96</td>\n",
       "      <td>eng</td>\n",
       "      <td>415</td>\n",
       "      <td>820</td>\n",
       "      <td>95.0</td>\n",
       "      <td>8</td>\n",
       "      <td>1993</td>\n",
       "    </tr>\n",
       "    <tr>\n",
       "      <th>11125</th>\n",
       "      <td>45639</td>\n",
       "      <td>Poor People</td>\n",
       "      <td>William T. Vollmann</td>\n",
       "      <td>3.72</td>\n",
       "      <td>eng</td>\n",
       "      <td>434</td>\n",
       "      <td>769</td>\n",
       "      <td>139.0</td>\n",
       "      <td>2</td>\n",
       "      <td>2007</td>\n",
       "    </tr>\n",
       "    <tr>\n",
       "      <th>11126</th>\n",
       "      <td>45641</td>\n",
       "      <td>Las aventuras de Tom Sawyer</td>\n",
       "      <td>Mark Twain</td>\n",
       "      <td>3.91</td>\n",
       "      <td>spa</td>\n",
       "      <td>272</td>\n",
       "      <td>113</td>\n",
       "      <td>12.0</td>\n",
       "      <td>5</td>\n",
       "      <td>2006</td>\n",
       "    </tr>\n",
       "  </tbody>\n",
       "</table>\n",
       "<p>11121 rows × 10 columns</p>\n",
       "</div>"
      ],
      "text/plain": [
       "       bookID                                             title  \\\n",
       "0           1           Harry Potter and the Half-Blood Prince    \n",
       "1           2        Harry Potter and the Order of the Phoenix    \n",
       "2           4          Harry Potter and the Chamber of Secrets    \n",
       "3           5         Harry Potter and the Prisoner of Azkaban    \n",
       "4           8                 Harry Potter Boxed Set Books 1-5    \n",
       "...       ...                                               ...   \n",
       "11122   45631  Expelled from Eden: A William T. Vollmann Reader   \n",
       "11123   45633                       You Bright and Risen Angels   \n",
       "11124   45634                                    The Ice-Shirt    \n",
       "11125   45639                                       Poor People   \n",
       "11126   45641                       Las aventuras de Tom Sawyer   \n",
       "\n",
       "                   authors  average_rating language_code  num_pages  \\\n",
       "0             J.K. Rowling            4.57           eng        652   \n",
       "1             J.K. Rowling            4.49           eng        870   \n",
       "2             J.K. Rowling            4.42           eng        352   \n",
       "3             J.K. Rowling            4.56           eng        435   \n",
       "4             J.K. Rowling            4.78           eng       2690   \n",
       "...                    ...             ...           ...        ...   \n",
       "11122  William T. Vollmann            4.06           eng        512   \n",
       "11123  William T. Vollmann            4.08           eng        635   \n",
       "11124  William T. Vollmann            3.96           eng        415   \n",
       "11125  William T. Vollmann            3.72           eng        434   \n",
       "11126           Mark Twain            3.91           spa        272   \n",
       "\n",
       "       ratings_count  text_reviews_count  month  year  \n",
       "0            2095690             27591.0      9  2006  \n",
       "1            2153167             29221.0      9  2004  \n",
       "2               6333               244.0     11  2003  \n",
       "3            2339585             36325.0      5  2004  \n",
       "4              41428               164.0      9  2004  \n",
       "...              ...                 ...    ...   ...  \n",
       "11122            156                20.0     12  2004  \n",
       "11123            783                56.0     12  1988  \n",
       "11124            820                95.0      8  1993  \n",
       "11125            769               139.0      2  2007  \n",
       "11126            113                12.0      5  2006  \n",
       "\n",
       "[11121 rows x 10 columns]"
      ]
     },
     "execution_count": 43,
     "metadata": {},
     "output_type": "execute_result"
    }
   ],
   "source": [
    "# Replace the \"title\" column with \"new_title\" and drop the colum\n",
    "books.loc[:,\"title\"]= books.loc[:,\"New_title\"].apply(Update_strings)\n",
    "books = books.drop([\"New_title\"],axis=1)\n",
    "books"
   ]
  },
  {
   "cell_type": "code",
   "execution_count": 44,
   "id": "021bea95",
   "metadata": {
    "scrolled": false
   },
   "outputs": [
    {
     "data": {
      "text/plain": [
       "Text(0.5, 1.0, 'Boxplot of count of average rating')"
      ]
     },
     "execution_count": 44,
     "metadata": {},
     "output_type": "execute_result"
    },
    {
     "data": {
      "image/png": "[encoded data removed]",
      "text/plain": [
       "<Figure size 576x576 with 1 Axes>"
      ]
     },
     "metadata": {
      "needs_background": "light"
     },
     "output_type": "display_data"
    }
   ],
   "source": [
    "plt.subplots(figsize=(8,8))\n",
    "plt.boxplot(books.average_rating)\n",
    "plt.xticks([1], [\"average_rating\"])\n",
    "plt.title(\"Boxplot of count of average rating\")"
   ]
  },
  {
   "cell_type": "code",
   "execution_count": 52,
   "id": "918d6360",
   "metadata": {
    "scrolled": true
   },
   "outputs": [
    {
     "data": {
      "text/plain": [
       "array([[<AxesSubplot:title={'center':'average_rating'}>]], dtype=object)"
      ]
     },
     "execution_count": 52,
     "metadata": {},
     "output_type": "execute_result"
    },
    {
     "data": {
      "image/png": "[encoded data removed]",
      "text/plain": [
       "<Figure size 432x504 with 1 Axes>"
      ]
     },
     "metadata": {
      "needs_background": "light"
     },
     "output_type": "display_data"
    }
   ],
   "source": [
    "### This is the histogram for 'average_rating', It is target for the modelling.\n",
    "### Very concentrated around 3.5 - 4.5\n",
    "\n",
    "books.hist(column=\"average_rating\",figsize=(6,7))"
   ]
  },
  {
   "cell_type": "code",
   "execution_count": 45,
   "id": "2ad81685",
   "metadata": {
    "scrolled": true
   },
   "outputs": [
    {
     "data": {
      "text/plain": [
       "Text(0, 0.5, 'Frequency')"
      ]
     },
     "execution_count": 45,
     "metadata": {},
     "output_type": "execute_result"
    },
    {
     "data": {
      "image/png": "[encoded data removed]",
      "text/plain": [
       "<Figure size 432x288 with 1 Axes>"
      ]
     },
     "metadata": {
      "needs_background": "light"
     },
     "output_type": "display_data"
    }
   ],
   "source": [
    "# Distributional ratings \n",
    "sns.kdeplot(books['average_rating'], shade = True)\n",
    "plt.title('Rating Distribution\\n')\n",
    "plt.xlabel('Rating')\n",
    "plt.ylabel('Frequency')"
   ]
  },
  {
   "cell_type": "code",
   "execution_count": 46,
   "id": "927dd3ff",
   "metadata": {},
   "outputs": [
    {
     "data": {
      "text/plain": [
       "Text(0, 0.5, 'Frequency')"
      ]
     },
     "execution_count": 46,
     "metadata": {},
     "output_type": "execute_result"
    },
    {
     "data": {
      "image/png": "[encoded data removed]",
      "text/plain": [
       "<Figure size 432x288 with 1 Axes>"
      ]
     },
     "metadata": {
      "needs_background": "light"
     },
     "output_type": "display_data"
    }
   ],
   "source": [
    "# Counts average ratings of top 9\n",
    "sns.barplot(x=books['average_rating'].value_counts().head(9).index,y=books['average_rating'].value_counts().head(9))\n",
    "plt.title('Number of Books Each Rating Received\\n')\n",
    "plt.xlabel('Average Ratings')\n",
    "plt.ylabel('Frequency')\n",
    "# plt.xticks(rotation=50)"
   ]
  },
  {
   "cell_type": "code",
   "execution_count": 48,
   "id": "c3c393f0",
   "metadata": {
    "scrolled": true
   },
   "outputs": [
    {
     "data": {
      "text/plain": [
       "Text(0.5, 0, 'Total Ratings')"
      ]
     },
     "execution_count": 48,
     "metadata": {},
     "output_type": "execute_result"
    },
    {
     "data": {
      "image/png": "[encoded data removed]",
      "text/plain": [
       "<Figure size 432x288 with 1 Axes>"
      ]
     },
     "metadata": {
      "needs_background": "light"
     },
     "output_type": "display_data"
    }
   ],
   "source": [
    "# Authors with top rated books\n",
    "authors = books.nlargest(7, ['ratings_count']).set_index('authors')\n",
    "sns.barplot(y=authors['ratings_count'], x=authors.index, ci = None, hue = authors['title'])\n",
    "plt.xlabel('Total Ratings')"
   ]
  },
  {
   "cell_type": "code",
   "execution_count": 53,
   "id": "5b7d0e1d",
   "metadata": {
    "scrolled": true
   },
   "outputs": [
    {
     "name": "stderr",
     "output_type": "stream",
     "text": [
      "C:\\Users\\kopri\\anaconda3\\envs\\Project\\lib\\site-packages\\seaborn\\_decorators.py:36: FutureWarning: Pass the following variables as keyword args: x, y. From version 0.12, the only valid positional argument will be `data`, and passing other arguments without an explicit keyword will result in an error or misinterpretation.\n",
      "  warnings.warn(\n"
     ]
    },
    {
     "data": {
      "text/plain": [
       "<AxesSubplot:xlabel='ratings_count', ylabel='title'>"
      ]
     },
     "execution_count": 53,
     "metadata": {},
     "output_type": "execute_result"
    },
    {
     "data": {
      "image/png": "[encoded data removed]",
      "text/plain": [
       "<Figure size 720x504 with 1 Axes>"
      ]
     },
     "metadata": {
      "needs_background": "light"
     },
     "output_type": "display_data"
    }
   ],
   "source": [
    "# This barplot shows us the most reviewed books in the dataset, with the first Twilight taking the number 1 spot by a mile.\n",
    "\n",
    "MostReviewedBooks = books.nlargest(10, ['ratings_count']).set_index('title')['ratings_count']\n",
    "fig, ax = plt.subplots(figsize=(10, 7))\n",
    "sns.barplot(MostReviewedBooks, MostReviewedBooks.index)"
   ]
  },
  {
   "cell_type": "code",
   "execution_count": 47,
   "id": "593c3498",
   "metadata": {
    "scrolled": false
   },
   "outputs": [
    {
     "data": {
      "text/plain": [
       "<matplotlib.legend.Legend at 0x24eb80ade20>"
      ]
     },
     "execution_count": 47,
     "metadata": {},
     "output_type": "execute_result"
    },
    {
     "data": {
      "image/png": "[encoded data removed]",
      "text/plain": [
       "<Figure size 504x576 with 1 Axes>"
      ]
     },
     "metadata": {},
     "output_type": "display_data"
    }
   ],
   "source": [
    "# Top 5 languages\n",
    "books['language_code'].value_counts().head(5).plot(kind = 'pie', autopct='%1.2f%%', figsize=(7, 8)).legend()"
   ]
  },
  {
   "cell_type": "code",
   "execution_count": 49,
   "id": "11c07d4e",
   "metadata": {},
   "outputs": [
    {
     "data": {
      "text/html": [
       "<div>\n",
       "<style scoped>\n",
       "    .dataframe tbody tr th:only-of-type {\n",
       "        vertical-align: middle;\n",
       "    }\n",
       "\n",
       "    .dataframe tbody tr th {\n",
       "        vertical-align: top;\n",
       "    }\n",
       "\n",
       "    .dataframe thead th {\n",
       "        text-align: right;\n",
       "    }\n",
       "</style>\n",
       "<table border=\"1\" class=\"dataframe\">\n",
       "  <thead>\n",
       "    <tr style=\"text-align: right;\">\n",
       "      <th></th>\n",
       "      <th>title</th>\n",
       "      <th>average_rating</th>\n",
       "    </tr>\n",
       "  </thead>\n",
       "  <tbody>\n",
       "    <tr>\n",
       "      <th>1016</th>\n",
       "      <td>Bill Gates: Computer Legend</td>\n",
       "      <td>5.0</td>\n",
       "    </tr>\n",
       "    <tr>\n",
       "      <th>1257</th>\n",
       "      <td>Bulgakov's the Master and Margarita: The Text ...</td>\n",
       "      <td>5.0</td>\n",
       "    </tr>\n",
       "    <tr>\n",
       "      <th>1600</th>\n",
       "      <td>Colossians and Philemon: A Critical and Exeget...</td>\n",
       "      <td>5.0</td>\n",
       "    </tr>\n",
       "    <tr>\n",
       "      <th>1616</th>\n",
       "      <td>Comoediae 1: Acharenses</td>\n",
       "      <td>5.0</td>\n",
       "    </tr>\n",
       "    <tr>\n",
       "      <th>1931</th>\n",
       "      <td>Delwau Duon: Peintiadau Nicholas Evans = Symph...</td>\n",
       "      <td>5.0</td>\n",
       "    </tr>\n",
       "    <tr>\n",
       "      <th>2521</th>\n",
       "      <td>Fanning the Flame: Bible Cross and Mission</td>\n",
       "      <td>5.0</td>\n",
       "    </tr>\n",
       "    <tr>\n",
       "      <th>3244</th>\n",
       "      <td>His Princess Devotional: A Royal Encounter Wit...</td>\n",
       "      <td>5.0</td>\n",
       "    </tr>\n",
       "    <tr>\n",
       "      <th>4156</th>\n",
       "      <td>Literature Circle Guide: Bridge to Terabithia:...</td>\n",
       "      <td>5.0</td>\n",
       "    </tr>\n",
       "    <tr>\n",
       "      <th>4565</th>\n",
       "      <td>Middlesex Borough</td>\n",
       "      <td>5.0</td>\n",
       "    </tr>\n",
       "    <tr>\n",
       "      <th>5059</th>\n",
       "      <td>Oliver Wendell Holmes in Paris: Medicine Theol...</td>\n",
       "      <td>5.0</td>\n",
       "    </tr>\n",
       "  </tbody>\n",
       "</table>\n",
       "</div>"
      ],
      "text/plain": [
       "                                                  title  average_rating\n",
       "1016                       Bill Gates: Computer Legend              5.0\n",
       "1257  Bulgakov's the Master and Margarita: The Text ...             5.0\n",
       "1600  Colossians and Philemon: A Critical and Exeget...             5.0\n",
       "1616                            Comoediae 1: Acharenses             5.0\n",
       "1931  Delwau Duon: Peintiadau Nicholas Evans = Symph...             5.0\n",
       "2521         Fanning the Flame: Bible Cross and Mission             5.0\n",
       "3244  His Princess Devotional: A Royal Encounter Wit...             5.0\n",
       "4156  Literature Circle Guide: Bridge to Terabithia:...             5.0\n",
       "4565                                 Middlesex Borough              5.0\n",
       "5059  Oliver Wendell Holmes in Paris: Medicine Theol...             5.0"
      ]
     },
     "execution_count": 49,
     "metadata": {},
     "output_type": "execute_result"
    }
   ],
   "source": [
    "# Look for a mean(average_rating) from dataframe books_df with group by \"title\" \n",
    "title_avg_rat_df = books.groupby([\"title\"])[\"average_rating\"].mean()\n",
    "# Convert the groupby result into a dataframe\n",
    "title_df = title_avg_rat_df.to_frame().reset_index()\n",
    "# Sort by title and average_rating\n",
    "title_df.sort_values([\"average_rating\",\"title\"],ascending=[False,True]).head(10)"
   ]
  },
  {
   "cell_type": "code",
   "execution_count": 50,
   "id": "670816b5",
   "metadata": {},
   "outputs": [
    {
     "data": {
      "image/png": "[encoded data removed]",
      "text/plain": [
       "<Figure size 443.75x360 with 1 Axes>"
      ]
     },
     "metadata": {
      "needs_background": "light"
     },
     "output_type": "display_data"
    }
   ],
   "source": [
    "# Find the relationship between Average_rating and num_pages with repect to the language code\n",
    "df_lang=books.loc[(books['language_code'] == 'spa') | (books['language_code'] == 'fre') | (books['language_code'] == 'eng') | (books['language_code'] == 'ger')]\n",
    "\n",
    "sns.lmplot(x=\"average_rating\", y=\"ratings_count\",hue = \"language_code\",data=df_lang);"
   ]
  },
  {
   "cell_type": "code",
   "execution_count": 54,
   "id": "a8bd51b2",
   "metadata": {
    "scrolled": true
   },
   "outputs": [
    {
     "name": "stdout",
     "output_type": "stream",
     "text": [
      " Displaying the correlation between the features in following heatmap:\n"
     ]
    },
    {
     "data": {
      "text/plain": [
       "<AxesSubplot:>"
      ]
     },
     "execution_count": 54,
     "metadata": {},
     "output_type": "execute_result"
    },
    {
     "data": {
      "image/png": "[encoded data removed]",
      "text/plain": [
       "<Figure size 432x288 with 2 Axes>"
      ]
     },
     "metadata": {
      "needs_background": "light"
     },
     "output_type": "display_data"
    }
   ],
   "source": [
    "#We see a high correlation between the ratings_count and the text_reviews_count (~ 81%). \n",
    "#From this we can conclude that when a person writes a review he/she will most likely also rate the book itself.print(\" Displaying the correlation between the features in following heatmap:\")\n",
    "sns.heatmap(data=books.corr(),\n",
    "            linewidths=0.25, square=True,\n",
    "            linecolor=\"black\", annot=True)"
   ]
  },
  {
   "cell_type": "code",
   "execution_count": 51,
   "id": "6d6e31a9",
   "metadata": {
    "scrolled": false
   },
   "outputs": [
    {
     "data": {
      "text/plain": [
       "array([[<AxesSubplot:title={'center':'bookID'}>]], dtype=object)"
      ]
     },
     "execution_count": 51,
     "metadata": {},
     "output_type": "execute_result"
    },
    {
     "data": {
      "image/png": "[encoded data removed]",
      "text/plain": [
       "<Figure size 432x504 with 1 Axes>"
      ]
     },
     "metadata": {
      "needs_background": "light"
     },
     "output_type": "display_data"
    }
   ],
   "source": [
    "books.hist(column=\"bookID\",figsize=(6,7))"
   ]
  },
  {
   "cell_type": "code",
   "execution_count": 56,
   "id": "7f286c01",
   "metadata": {},
   "outputs": [
    {
     "data": {
      "text/html": [
       "<div>\n",
       "<style scoped>\n",
       "    .dataframe tbody tr th:only-of-type {\n",
       "        vertical-align: middle;\n",
       "    }\n",
       "\n",
       "    .dataframe tbody tr th {\n",
       "        vertical-align: top;\n",
       "    }\n",
       "\n",
       "    .dataframe thead th {\n",
       "        text-align: right;\n",
       "    }\n",
       "</style>\n",
       "<table border=\"1\" class=\"dataframe\">\n",
       "  <thead>\n",
       "    <tr style=\"text-align: right;\">\n",
       "      <th></th>\n",
       "      <th>title</th>\n",
       "      <th>ratings_count</th>\n",
       "    </tr>\n",
       "  </thead>\n",
       "  <tbody>\n",
       "    <tr>\n",
       "      <th>10340</th>\n",
       "      <td>Twilight</td>\n",
       "      <td>4597666</td>\n",
       "    </tr>\n",
       "    <tr>\n",
       "      <th>1697</th>\n",
       "      <td>The Hobbit or There and Back Again</td>\n",
       "      <td>2530894</td>\n",
       "    </tr>\n",
       "    <tr>\n",
       "      <th>1462</th>\n",
       "      <td>The Catcher in the Rye</td>\n",
       "      <td>2457092</td>\n",
       "    </tr>\n",
       "    <tr>\n",
       "      <th>307</th>\n",
       "      <td>Angels and Demons</td>\n",
       "      <td>2418736</td>\n",
       "    </tr>\n",
       "    <tr>\n",
       "      <th>3</th>\n",
       "      <td>Harry Potter and the Prisoner of Azkaban</td>\n",
       "      <td>2339585</td>\n",
       "    </tr>\n",
       "    <tr>\n",
       "      <th>4416</th>\n",
       "      <td>Harry Potter and the Chamber of Secrets</td>\n",
       "      <td>2293963</td>\n",
       "    </tr>\n",
       "    <tr>\n",
       "      <th>1</th>\n",
       "      <td>Harry Potter and the Order of the Phoenix</td>\n",
       "      <td>2153167</td>\n",
       "    </tr>\n",
       "    <tr>\n",
       "      <th>23</th>\n",
       "      <td>The Fellowship of the Ring</td>\n",
       "      <td>2128944</td>\n",
       "    </tr>\n",
       "    <tr>\n",
       "      <th>2114</th>\n",
       "      <td>Animal Farm</td>\n",
       "      <td>2111750</td>\n",
       "    </tr>\n",
       "    <tr>\n",
       "      <th>0</th>\n",
       "      <td>Harry Potter and the Half-Blood Prince</td>\n",
       "      <td>2095690</td>\n",
       "    </tr>\n",
       "  </tbody>\n",
       "</table>\n",
       "</div>"
      ],
      "text/plain": [
       "                                            title  ratings_count\n",
       "10340                                   Twilight         4597666\n",
       "1697           The Hobbit or There and Back Again        2530894\n",
       "1462                       The Catcher in the Rye        2457092\n",
       "307                            Angels and Demons         2418736\n",
       "3       Harry Potter and the Prisoner of Azkaban         2339585\n",
       "4416     Harry Potter and the Chamber of Secrets         2293963\n",
       "1      Harry Potter and the Order of the Phoenix         2153167\n",
       "23                    The Fellowship of the Ring         2128944\n",
       "2114                                  Animal Farm        2111750\n",
       "0         Harry Potter and the Half-Blood Prince         2095690"
      ]
     },
     "execution_count": 56,
     "metadata": {},
     "output_type": "execute_result"
    }
   ],
   "source": [
    "most_rated = books.sort_values(by=\"ratings_count\", ascending = False).head(10)\n",
    "\n",
    "most_rated_titles = pd.DataFrame(most_rated.title).join(pd.DataFrame(most_rated.ratings_count))\n",
    "most_rated_titles"
   ]
  },
  {
   "cell_type": "code",
   "execution_count": 57,
   "id": "18990e3a",
   "metadata": {},
   "outputs": [],
   "source": [
    "#3. Model Training and Evaluation\n",
    "#Transform categorical data to numeric"
   ]
  },
  {
   "cell_type": "code",
   "execution_count": 58,
   "id": "a95f14b0",
   "metadata": {},
   "outputs": [
    {
     "data": {
      "text/html": [
       "<div>\n",
       "<style scoped>\n",
       "    .dataframe tbody tr th:only-of-type {\n",
       "        vertical-align: middle;\n",
       "    }\n",
       "\n",
       "    .dataframe tbody tr th {\n",
       "        vertical-align: top;\n",
       "    }\n",
       "\n",
       "    .dataframe thead th {\n",
       "        text-align: right;\n",
       "    }\n",
       "</style>\n",
       "<table border=\"1\" class=\"dataframe\">\n",
       "  <thead>\n",
       "    <tr style=\"text-align: right;\">\n",
       "      <th></th>\n",
       "      <th>bookID</th>\n",
       "      <th>title</th>\n",
       "      <th>authors</th>\n",
       "      <th>average_rating</th>\n",
       "      <th>language_code</th>\n",
       "      <th>num_pages</th>\n",
       "      <th>ratings_count</th>\n",
       "      <th>text_reviews_count</th>\n",
       "      <th>month</th>\n",
       "      <th>year</th>\n",
       "    </tr>\n",
       "  </thead>\n",
       "  <tbody>\n",
       "    <tr>\n",
       "      <th>0</th>\n",
       "      <td>1</td>\n",
       "      <td>Harry Potter and the Half-Blood Prince</td>\n",
       "      <td>J.K. Rowling</td>\n",
       "      <td>4.57</td>\n",
       "      <td>eng</td>\n",
       "      <td>652</td>\n",
       "      <td>2095690</td>\n",
       "      <td>27591.0</td>\n",
       "      <td>9</td>\n",
       "      <td>2006</td>\n",
       "    </tr>\n",
       "    <tr>\n",
       "      <th>1</th>\n",
       "      <td>2</td>\n",
       "      <td>Harry Potter and the Order of the Phoenix</td>\n",
       "      <td>J.K. Rowling</td>\n",
       "      <td>4.49</td>\n",
       "      <td>eng</td>\n",
       "      <td>870</td>\n",
       "      <td>2153167</td>\n",
       "      <td>29221.0</td>\n",
       "      <td>9</td>\n",
       "      <td>2004</td>\n",
       "    </tr>\n",
       "    <tr>\n",
       "      <th>2</th>\n",
       "      <td>4</td>\n",
       "      <td>Harry Potter and the Chamber of Secrets</td>\n",
       "      <td>J.K. Rowling</td>\n",
       "      <td>4.42</td>\n",
       "      <td>eng</td>\n",
       "      <td>352</td>\n",
       "      <td>6333</td>\n",
       "      <td>244.0</td>\n",
       "      <td>11</td>\n",
       "      <td>2003</td>\n",
       "    </tr>\n",
       "    <tr>\n",
       "      <th>3</th>\n",
       "      <td>5</td>\n",
       "      <td>Harry Potter and the Prisoner of Azkaban</td>\n",
       "      <td>J.K. Rowling</td>\n",
       "      <td>4.56</td>\n",
       "      <td>eng</td>\n",
       "      <td>435</td>\n",
       "      <td>2339585</td>\n",
       "      <td>36325.0</td>\n",
       "      <td>5</td>\n",
       "      <td>2004</td>\n",
       "    </tr>\n",
       "    <tr>\n",
       "      <th>4</th>\n",
       "      <td>8</td>\n",
       "      <td>Harry Potter Boxed Set Books 1-5</td>\n",
       "      <td>J.K. Rowling</td>\n",
       "      <td>4.78</td>\n",
       "      <td>eng</td>\n",
       "      <td>2690</td>\n",
       "      <td>41428</td>\n",
       "      <td>164.0</td>\n",
       "      <td>9</td>\n",
       "      <td>2004</td>\n",
       "    </tr>\n",
       "    <tr>\n",
       "      <th>...</th>\n",
       "      <td>...</td>\n",
       "      <td>...</td>\n",
       "      <td>...</td>\n",
       "      <td>...</td>\n",
       "      <td>...</td>\n",
       "      <td>...</td>\n",
       "      <td>...</td>\n",
       "      <td>...</td>\n",
       "      <td>...</td>\n",
       "      <td>...</td>\n",
       "    </tr>\n",
       "    <tr>\n",
       "      <th>11122</th>\n",
       "      <td>45631</td>\n",
       "      <td>Expelled from Eden: A William T. Vollmann Reader</td>\n",
       "      <td>William T. Vollmann</td>\n",
       "      <td>4.06</td>\n",
       "      <td>eng</td>\n",
       "      <td>512</td>\n",
       "      <td>156</td>\n",
       "      <td>20.0</td>\n",
       "      <td>12</td>\n",
       "      <td>2004</td>\n",
       "    </tr>\n",
       "    <tr>\n",
       "      <th>11123</th>\n",
       "      <td>45633</td>\n",
       "      <td>You Bright and Risen Angels</td>\n",
       "      <td>William T. Vollmann</td>\n",
       "      <td>4.08</td>\n",
       "      <td>eng</td>\n",
       "      <td>635</td>\n",
       "      <td>783</td>\n",
       "      <td>56.0</td>\n",
       "      <td>12</td>\n",
       "      <td>1988</td>\n",
       "    </tr>\n",
       "    <tr>\n",
       "      <th>11124</th>\n",
       "      <td>45634</td>\n",
       "      <td>The Ice-Shirt</td>\n",
       "      <td>William T. Vollmann</td>\n",
       "      <td>3.96</td>\n",
       "      <td>eng</td>\n",
       "      <td>415</td>\n",
       "      <td>820</td>\n",
       "      <td>95.0</td>\n",
       "      <td>8</td>\n",
       "      <td>1993</td>\n",
       "    </tr>\n",
       "    <tr>\n",
       "      <th>11125</th>\n",
       "      <td>45639</td>\n",
       "      <td>Poor People</td>\n",
       "      <td>William T. Vollmann</td>\n",
       "      <td>3.72</td>\n",
       "      <td>eng</td>\n",
       "      <td>434</td>\n",
       "      <td>769</td>\n",
       "      <td>139.0</td>\n",
       "      <td>2</td>\n",
       "      <td>2007</td>\n",
       "    </tr>\n",
       "    <tr>\n",
       "      <th>11126</th>\n",
       "      <td>45641</td>\n",
       "      <td>Las aventuras de Tom Sawyer</td>\n",
       "      <td>Mark Twain</td>\n",
       "      <td>3.91</td>\n",
       "      <td>spa</td>\n",
       "      <td>272</td>\n",
       "      <td>113</td>\n",
       "      <td>12.0</td>\n",
       "      <td>5</td>\n",
       "      <td>2006</td>\n",
       "    </tr>\n",
       "  </tbody>\n",
       "</table>\n",
       "<p>11121 rows × 10 columns</p>\n",
       "</div>"
      ],
      "text/plain": [
       "       bookID                                             title  \\\n",
       "0           1           Harry Potter and the Half-Blood Prince    \n",
       "1           2        Harry Potter and the Order of the Phoenix    \n",
       "2           4          Harry Potter and the Chamber of Secrets    \n",
       "3           5         Harry Potter and the Prisoner of Azkaban    \n",
       "4           8                 Harry Potter Boxed Set Books 1-5    \n",
       "...       ...                                               ...   \n",
       "11122   45631  Expelled from Eden: A William T. Vollmann Reader   \n",
       "11123   45633                       You Bright and Risen Angels   \n",
       "11124   45634                                    The Ice-Shirt    \n",
       "11125   45639                                       Poor People   \n",
       "11126   45641                       Las aventuras de Tom Sawyer   \n",
       "\n",
       "                   authors  average_rating language_code  num_pages  \\\n",
       "0             J.K. Rowling            4.57           eng        652   \n",
       "1             J.K. Rowling            4.49           eng        870   \n",
       "2             J.K. Rowling            4.42           eng        352   \n",
       "3             J.K. Rowling            4.56           eng        435   \n",
       "4             J.K. Rowling            4.78           eng       2690   \n",
       "...                    ...             ...           ...        ...   \n",
       "11122  William T. Vollmann            4.06           eng        512   \n",
       "11123  William T. Vollmann            4.08           eng        635   \n",
       "11124  William T. Vollmann            3.96           eng        415   \n",
       "11125  William T. Vollmann            3.72           eng        434   \n",
       "11126           Mark Twain            3.91           spa        272   \n",
       "\n",
       "       ratings_count  text_reviews_count  month  year  \n",
       "0            2095690             27591.0      9  2006  \n",
       "1            2153167             29221.0      9  2004  \n",
       "2               6333               244.0     11  2003  \n",
       "3            2339585             36325.0      5  2004  \n",
       "4              41428               164.0      9  2004  \n",
       "...              ...                 ...    ...   ...  \n",
       "11122            156                20.0     12  2004  \n",
       "11123            783                56.0     12  1988  \n",
       "11124            820                95.0      8  1993  \n",
       "11125            769               139.0      2  2007  \n",
       "11126            113                12.0      5  2006  \n",
       "\n",
       "[11121 rows x 10 columns]"
      ]
     },
     "execution_count": 58,
     "metadata": {},
     "output_type": "execute_result"
    }
   ],
   "source": [
    "books\n"
   ]
  },
  {
   "cell_type": "code",
   "execution_count": 60,
   "id": "2ce7c8ee",
   "metadata": {},
   "outputs": [],
   "source": [
    "# Remove titles that are non ASCII characters\n",
    "books = books.loc[~((books['title'].str.contains(r'[^\\x00-\\x7F]')) & ((books['language_code'] == 'jpn') | (books['language_code'] == 'zho')))]"
   ]
  },
  {
   "cell_type": "code",
   "execution_count": 61,
   "id": "6a417a5c",
   "metadata": {},
   "outputs": [],
   "source": [
    "# Select the top 4 counts for \"language_code\"\n",
    "processed = books.loc[(books['language_code'] == 'eng') | (books['language_code'] == 'fre') | (books['language_code'] == 'spa') | (books['language_code'] == 'ger')]\n"
   ]
  },
  {
   "cell_type": "code",
   "execution_count": 62,
   "id": "b06e156a",
   "metadata": {},
   "outputs": [],
   "source": [
    "# Encoding the \"language_code\" column by transforming it to 4 columns corresponding to each of its values\n",
    "processed = pd.concat([processed,pd.get_dummies(processed.language_code)],axis=1).drop(columns=\"language_code\")"
   ]
  },
  {
   "cell_type": "code",
   "execution_count": 63,
   "id": "61541afe",
   "metadata": {
    "scrolled": true
   },
   "outputs": [
    {
     "data": {
      "text/html": [
       "<div>\n",
       "<style scoped>\n",
       "    .dataframe tbody tr th:only-of-type {\n",
       "        vertical-align: middle;\n",
       "    }\n",
       "\n",
       "    .dataframe tbody tr th {\n",
       "        vertical-align: top;\n",
       "    }\n",
       "\n",
       "    .dataframe thead th {\n",
       "        text-align: right;\n",
       "    }\n",
       "</style>\n",
       "<table border=\"1\" class=\"dataframe\">\n",
       "  <thead>\n",
       "    <tr style=\"text-align: right;\">\n",
       "      <th></th>\n",
       "      <th>bookID</th>\n",
       "      <th>title</th>\n",
       "      <th>authors</th>\n",
       "      <th>average_rating</th>\n",
       "      <th>num_pages</th>\n",
       "      <th>ratings_count</th>\n",
       "      <th>text_reviews_count</th>\n",
       "      <th>month</th>\n",
       "      <th>year</th>\n",
       "      <th>eng</th>\n",
       "      <th>fre</th>\n",
       "      <th>ger</th>\n",
       "      <th>spa</th>\n",
       "    </tr>\n",
       "  </thead>\n",
       "  <tbody>\n",
       "    <tr>\n",
       "      <th>0</th>\n",
       "      <td>1</td>\n",
       "      <td>Harry Potter and the Half-Blood Prince</td>\n",
       "      <td>J.K. Rowling</td>\n",
       "      <td>4.57</td>\n",
       "      <td>652</td>\n",
       "      <td>2095690</td>\n",
       "      <td>27591.0</td>\n",
       "      <td>9</td>\n",
       "      <td>2006</td>\n",
       "      <td>1</td>\n",
       "      <td>0</td>\n",
       "      <td>0</td>\n",
       "      <td>0</td>\n",
       "    </tr>\n",
       "    <tr>\n",
       "      <th>1</th>\n",
       "      <td>2</td>\n",
       "      <td>Harry Potter and the Order of the Phoenix</td>\n",
       "      <td>J.K. Rowling</td>\n",
       "      <td>4.49</td>\n",
       "      <td>870</td>\n",
       "      <td>2153167</td>\n",
       "      <td>29221.0</td>\n",
       "      <td>9</td>\n",
       "      <td>2004</td>\n",
       "      <td>1</td>\n",
       "      <td>0</td>\n",
       "      <td>0</td>\n",
       "      <td>0</td>\n",
       "    </tr>\n",
       "    <tr>\n",
       "      <th>2</th>\n",
       "      <td>4</td>\n",
       "      <td>Harry Potter and the Chamber of Secrets</td>\n",
       "      <td>J.K. Rowling</td>\n",
       "      <td>4.42</td>\n",
       "      <td>352</td>\n",
       "      <td>6333</td>\n",
       "      <td>244.0</td>\n",
       "      <td>11</td>\n",
       "      <td>2003</td>\n",
       "      <td>1</td>\n",
       "      <td>0</td>\n",
       "      <td>0</td>\n",
       "      <td>0</td>\n",
       "    </tr>\n",
       "    <tr>\n",
       "      <th>3</th>\n",
       "      <td>5</td>\n",
       "      <td>Harry Potter and the Prisoner of Azkaban</td>\n",
       "      <td>J.K. Rowling</td>\n",
       "      <td>4.56</td>\n",
       "      <td>435</td>\n",
       "      <td>2339585</td>\n",
       "      <td>36325.0</td>\n",
       "      <td>5</td>\n",
       "      <td>2004</td>\n",
       "      <td>1</td>\n",
       "      <td>0</td>\n",
       "      <td>0</td>\n",
       "      <td>0</td>\n",
       "    </tr>\n",
       "    <tr>\n",
       "      <th>4</th>\n",
       "      <td>8</td>\n",
       "      <td>Harry Potter Boxed Set Books 1-5</td>\n",
       "      <td>J.K. Rowling</td>\n",
       "      <td>4.78</td>\n",
       "      <td>2690</td>\n",
       "      <td>41428</td>\n",
       "      <td>164.0</td>\n",
       "      <td>9</td>\n",
       "      <td>2004</td>\n",
       "      <td>1</td>\n",
       "      <td>0</td>\n",
       "      <td>0</td>\n",
       "      <td>0</td>\n",
       "    </tr>\n",
       "    <tr>\n",
       "      <th>...</th>\n",
       "      <td>...</td>\n",
       "      <td>...</td>\n",
       "      <td>...</td>\n",
       "      <td>...</td>\n",
       "      <td>...</td>\n",
       "      <td>...</td>\n",
       "      <td>...</td>\n",
       "      <td>...</td>\n",
       "      <td>...</td>\n",
       "      <td>...</td>\n",
       "      <td>...</td>\n",
       "      <td>...</td>\n",
       "      <td>...</td>\n",
       "    </tr>\n",
       "    <tr>\n",
       "      <th>11122</th>\n",
       "      <td>45631</td>\n",
       "      <td>Expelled from Eden: A William T. Vollmann Reader</td>\n",
       "      <td>William T. Vollmann</td>\n",
       "      <td>4.06</td>\n",
       "      <td>512</td>\n",
       "      <td>156</td>\n",
       "      <td>20.0</td>\n",
       "      <td>12</td>\n",
       "      <td>2004</td>\n",
       "      <td>1</td>\n",
       "      <td>0</td>\n",
       "      <td>0</td>\n",
       "      <td>0</td>\n",
       "    </tr>\n",
       "    <tr>\n",
       "      <th>11123</th>\n",
       "      <td>45633</td>\n",
       "      <td>You Bright and Risen Angels</td>\n",
       "      <td>William T. Vollmann</td>\n",
       "      <td>4.08</td>\n",
       "      <td>635</td>\n",
       "      <td>783</td>\n",
       "      <td>56.0</td>\n",
       "      <td>12</td>\n",
       "      <td>1988</td>\n",
       "      <td>1</td>\n",
       "      <td>0</td>\n",
       "      <td>0</td>\n",
       "      <td>0</td>\n",
       "    </tr>\n",
       "    <tr>\n",
       "      <th>11124</th>\n",
       "      <td>45634</td>\n",
       "      <td>The Ice-Shirt</td>\n",
       "      <td>William T. Vollmann</td>\n",
       "      <td>3.96</td>\n",
       "      <td>415</td>\n",
       "      <td>820</td>\n",
       "      <td>95.0</td>\n",
       "      <td>8</td>\n",
       "      <td>1993</td>\n",
       "      <td>1</td>\n",
       "      <td>0</td>\n",
       "      <td>0</td>\n",
       "      <td>0</td>\n",
       "    </tr>\n",
       "    <tr>\n",
       "      <th>11125</th>\n",
       "      <td>45639</td>\n",
       "      <td>Poor People</td>\n",
       "      <td>William T. Vollmann</td>\n",
       "      <td>3.72</td>\n",
       "      <td>434</td>\n",
       "      <td>769</td>\n",
       "      <td>139.0</td>\n",
       "      <td>2</td>\n",
       "      <td>2007</td>\n",
       "      <td>1</td>\n",
       "      <td>0</td>\n",
       "      <td>0</td>\n",
       "      <td>0</td>\n",
       "    </tr>\n",
       "    <tr>\n",
       "      <th>11126</th>\n",
       "      <td>45641</td>\n",
       "      <td>Las aventuras de Tom Sawyer</td>\n",
       "      <td>Mark Twain</td>\n",
       "      <td>3.91</td>\n",
       "      <td>272</td>\n",
       "      <td>113</td>\n",
       "      <td>12.0</td>\n",
       "      <td>5</td>\n",
       "      <td>2006</td>\n",
       "      <td>0</td>\n",
       "      <td>0</td>\n",
       "      <td>0</td>\n",
       "      <td>1</td>\n",
       "    </tr>\n",
       "  </tbody>\n",
       "</table>\n",
       "<p>10996 rows × 13 columns</p>\n",
       "</div>"
      ],
      "text/plain": [
       "       bookID                                             title  \\\n",
       "0           1           Harry Potter and the Half-Blood Prince    \n",
       "1           2        Harry Potter and the Order of the Phoenix    \n",
       "2           4          Harry Potter and the Chamber of Secrets    \n",
       "3           5         Harry Potter and the Prisoner of Azkaban    \n",
       "4           8                 Harry Potter Boxed Set Books 1-5    \n",
       "...       ...                                               ...   \n",
       "11122   45631  Expelled from Eden: A William T. Vollmann Reader   \n",
       "11123   45633                       You Bright and Risen Angels   \n",
       "11124   45634                                    The Ice-Shirt    \n",
       "11125   45639                                       Poor People   \n",
       "11126   45641                       Las aventuras de Tom Sawyer   \n",
       "\n",
       "                   authors  average_rating  num_pages  ratings_count  \\\n",
       "0             J.K. Rowling            4.57        652        2095690   \n",
       "1             J.K. Rowling            4.49        870        2153167   \n",
       "2             J.K. Rowling            4.42        352           6333   \n",
       "3             J.K. Rowling            4.56        435        2339585   \n",
       "4             J.K. Rowling            4.78       2690          41428   \n",
       "...                    ...             ...        ...            ...   \n",
       "11122  William T. Vollmann            4.06        512            156   \n",
       "11123  William T. Vollmann            4.08        635            783   \n",
       "11124  William T. Vollmann            3.96        415            820   \n",
       "11125  William T. Vollmann            3.72        434            769   \n",
       "11126           Mark Twain            3.91        272            113   \n",
       "\n",
       "       text_reviews_count  month  year  eng  fre  ger  spa  \n",
       "0                 27591.0      9  2006    1    0    0    0  \n",
       "1                 29221.0      9  2004    1    0    0    0  \n",
       "2                   244.0     11  2003    1    0    0    0  \n",
       "3                 36325.0      5  2004    1    0    0    0  \n",
       "4                   164.0      9  2004    1    0    0    0  \n",
       "...                   ...    ...   ...  ...  ...  ...  ...  \n",
       "11122                20.0     12  2004    1    0    0    0  \n",
       "11123                56.0     12  1988    1    0    0    0  \n",
       "11124                95.0      8  1993    1    0    0    0  \n",
       "11125               139.0      2  2007    1    0    0    0  \n",
       "11126                12.0      5  2006    0    0    0    1  \n",
       "\n",
       "[10996 rows x 13 columns]"
      ]
     },
     "execution_count": 63,
     "metadata": {},
     "output_type": "execute_result"
    }
   ],
   "source": [
    "# View the dataframe to be used for machine learning\n",
    "# It has 10996 records and 12 columns\n",
    "processed"
   ]
  },
  {
   "cell_type": "code",
   "execution_count": 64,
   "id": "b890e553",
   "metadata": {},
   "outputs": [],
   "source": [
    "# Convert 'authors' column to numeric\n",
    "processed['authors'] = pd.factorize(processed['authors'])[0]"
   ]
  },
  {
   "cell_type": "code",
   "execution_count": 65,
   "id": "32c00a44",
   "metadata": {},
   "outputs": [],
   "source": [
    "# Convert 'title' column to numeric\n",
    "processed['title'] = pd.factorize(processed['title'])[0]"
   ]
  },
  {
   "cell_type": "code",
   "execution_count": 66,
   "id": "6ffa895f",
   "metadata": {},
   "outputs": [
    {
     "data": {
      "text/html": [
       "<div>\n",
       "<style scoped>\n",
       "    .dataframe tbody tr th:only-of-type {\n",
       "        vertical-align: middle;\n",
       "    }\n",
       "\n",
       "    .dataframe tbody tr th {\n",
       "        vertical-align: top;\n",
       "    }\n",
       "\n",
       "    .dataframe thead th {\n",
       "        text-align: right;\n",
       "    }\n",
       "</style>\n",
       "<table border=\"1\" class=\"dataframe\">\n",
       "  <thead>\n",
       "    <tr style=\"text-align: right;\">\n",
       "      <th></th>\n",
       "      <th>bookID</th>\n",
       "      <th>title</th>\n",
       "      <th>authors</th>\n",
       "      <th>average_rating</th>\n",
       "      <th>num_pages</th>\n",
       "      <th>ratings_count</th>\n",
       "      <th>text_reviews_count</th>\n",
       "      <th>month</th>\n",
       "      <th>year</th>\n",
       "      <th>eng</th>\n",
       "      <th>fre</th>\n",
       "      <th>ger</th>\n",
       "      <th>spa</th>\n",
       "    </tr>\n",
       "  </thead>\n",
       "  <tbody>\n",
       "    <tr>\n",
       "      <th>0</th>\n",
       "      <td>1</td>\n",
       "      <td>0</td>\n",
       "      <td>0</td>\n",
       "      <td>4.57</td>\n",
       "      <td>652</td>\n",
       "      <td>2095690</td>\n",
       "      <td>27591.0</td>\n",
       "      <td>9</td>\n",
       "      <td>2006</td>\n",
       "      <td>1</td>\n",
       "      <td>0</td>\n",
       "      <td>0</td>\n",
       "      <td>0</td>\n",
       "    </tr>\n",
       "    <tr>\n",
       "      <th>1</th>\n",
       "      <td>2</td>\n",
       "      <td>1</td>\n",
       "      <td>0</td>\n",
       "      <td>4.49</td>\n",
       "      <td>870</td>\n",
       "      <td>2153167</td>\n",
       "      <td>29221.0</td>\n",
       "      <td>9</td>\n",
       "      <td>2004</td>\n",
       "      <td>1</td>\n",
       "      <td>0</td>\n",
       "      <td>0</td>\n",
       "      <td>0</td>\n",
       "    </tr>\n",
       "    <tr>\n",
       "      <th>2</th>\n",
       "      <td>4</td>\n",
       "      <td>2</td>\n",
       "      <td>0</td>\n",
       "      <td>4.42</td>\n",
       "      <td>352</td>\n",
       "      <td>6333</td>\n",
       "      <td>244.0</td>\n",
       "      <td>11</td>\n",
       "      <td>2003</td>\n",
       "      <td>1</td>\n",
       "      <td>0</td>\n",
       "      <td>0</td>\n",
       "      <td>0</td>\n",
       "    </tr>\n",
       "    <tr>\n",
       "      <th>3</th>\n",
       "      <td>5</td>\n",
       "      <td>3</td>\n",
       "      <td>0</td>\n",
       "      <td>4.56</td>\n",
       "      <td>435</td>\n",
       "      <td>2339585</td>\n",
       "      <td>36325.0</td>\n",
       "      <td>5</td>\n",
       "      <td>2004</td>\n",
       "      <td>1</td>\n",
       "      <td>0</td>\n",
       "      <td>0</td>\n",
       "      <td>0</td>\n",
       "    </tr>\n",
       "    <tr>\n",
       "      <th>4</th>\n",
       "      <td>8</td>\n",
       "      <td>4</td>\n",
       "      <td>0</td>\n",
       "      <td>4.78</td>\n",
       "      <td>2690</td>\n",
       "      <td>41428</td>\n",
       "      <td>164.0</td>\n",
       "      <td>9</td>\n",
       "      <td>2004</td>\n",
       "      <td>1</td>\n",
       "      <td>0</td>\n",
       "      <td>0</td>\n",
       "      <td>0</td>\n",
       "    </tr>\n",
       "    <tr>\n",
       "      <th>...</th>\n",
       "      <td>...</td>\n",
       "      <td>...</td>\n",
       "      <td>...</td>\n",
       "      <td>...</td>\n",
       "      <td>...</td>\n",
       "      <td>...</td>\n",
       "      <td>...</td>\n",
       "      <td>...</td>\n",
       "      <td>...</td>\n",
       "      <td>...</td>\n",
       "      <td>...</td>\n",
       "      <td>...</td>\n",
       "      <td>...</td>\n",
       "    </tr>\n",
       "    <tr>\n",
       "      <th>11122</th>\n",
       "      <td>45631</td>\n",
       "      <td>10137</td>\n",
       "      <td>1469</td>\n",
       "      <td>4.06</td>\n",
       "      <td>512</td>\n",
       "      <td>156</td>\n",
       "      <td>20.0</td>\n",
       "      <td>12</td>\n",
       "      <td>2004</td>\n",
       "      <td>1</td>\n",
       "      <td>0</td>\n",
       "      <td>0</td>\n",
       "      <td>0</td>\n",
       "    </tr>\n",
       "    <tr>\n",
       "      <th>11123</th>\n",
       "      <td>45633</td>\n",
       "      <td>10138</td>\n",
       "      <td>1469</td>\n",
       "      <td>4.08</td>\n",
       "      <td>635</td>\n",
       "      <td>783</td>\n",
       "      <td>56.0</td>\n",
       "      <td>12</td>\n",
       "      <td>1988</td>\n",
       "      <td>1</td>\n",
       "      <td>0</td>\n",
       "      <td>0</td>\n",
       "      <td>0</td>\n",
       "    </tr>\n",
       "    <tr>\n",
       "      <th>11124</th>\n",
       "      <td>45634</td>\n",
       "      <td>10139</td>\n",
       "      <td>1469</td>\n",
       "      <td>3.96</td>\n",
       "      <td>415</td>\n",
       "      <td>820</td>\n",
       "      <td>95.0</td>\n",
       "      <td>8</td>\n",
       "      <td>1993</td>\n",
       "      <td>1</td>\n",
       "      <td>0</td>\n",
       "      <td>0</td>\n",
       "      <td>0</td>\n",
       "    </tr>\n",
       "    <tr>\n",
       "      <th>11125</th>\n",
       "      <td>45639</td>\n",
       "      <td>10140</td>\n",
       "      <td>1469</td>\n",
       "      <td>3.72</td>\n",
       "      <td>434</td>\n",
       "      <td>769</td>\n",
       "      <td>139.0</td>\n",
       "      <td>2</td>\n",
       "      <td>2007</td>\n",
       "      <td>1</td>\n",
       "      <td>0</td>\n",
       "      <td>0</td>\n",
       "      <td>0</td>\n",
       "    </tr>\n",
       "    <tr>\n",
       "      <th>11126</th>\n",
       "      <td>45641</td>\n",
       "      <td>10141</td>\n",
       "      <td>343</td>\n",
       "      <td>3.91</td>\n",
       "      <td>272</td>\n",
       "      <td>113</td>\n",
       "      <td>12.0</td>\n",
       "      <td>5</td>\n",
       "      <td>2006</td>\n",
       "      <td>0</td>\n",
       "      <td>0</td>\n",
       "      <td>0</td>\n",
       "      <td>1</td>\n",
       "    </tr>\n",
       "  </tbody>\n",
       "</table>\n",
       "<p>10996 rows × 13 columns</p>\n",
       "</div>"
      ],
      "text/plain": [
       "       bookID  title  authors  average_rating  num_pages  ratings_count  \\\n",
       "0           1      0        0            4.57        652        2095690   \n",
       "1           2      1        0            4.49        870        2153167   \n",
       "2           4      2        0            4.42        352           6333   \n",
       "3           5      3        0            4.56        435        2339585   \n",
       "4           8      4        0            4.78       2690          41428   \n",
       "...       ...    ...      ...             ...        ...            ...   \n",
       "11122   45631  10137     1469            4.06        512            156   \n",
       "11123   45633  10138     1469            4.08        635            783   \n",
       "11124   45634  10139     1469            3.96        415            820   \n",
       "11125   45639  10140     1469            3.72        434            769   \n",
       "11126   45641  10141      343            3.91        272            113   \n",
       "\n",
       "       text_reviews_count  month  year  eng  fre  ger  spa  \n",
       "0                 27591.0      9  2006    1    0    0    0  \n",
       "1                 29221.0      9  2004    1    0    0    0  \n",
       "2                   244.0     11  2003    1    0    0    0  \n",
       "3                 36325.0      5  2004    1    0    0    0  \n",
       "4                   164.0      9  2004    1    0    0    0  \n",
       "...                   ...    ...   ...  ...  ...  ...  ...  \n",
       "11122                20.0     12  2004    1    0    0    0  \n",
       "11123                56.0     12  1988    1    0    0    0  \n",
       "11124                95.0      8  1993    1    0    0    0  \n",
       "11125               139.0      2  2007    1    0    0    0  \n",
       "11126                12.0      5  2006    0    0    0    1  \n",
       "\n",
       "[10996 rows x 13 columns]"
      ]
     },
     "execution_count": 66,
     "metadata": {},
     "output_type": "execute_result"
    }
   ],
   "source": [
    "# View the dataframe again now all columns are numeric which is good for the model to be trained.\n",
    "processed"
   ]
  },
  {
   "cell_type": "code",
   "execution_count": 67,
   "id": "489e3b82",
   "metadata": {},
   "outputs": [],
   "source": [
    "# Copy the datafram to csv\n",
    "processed.to_csv('book_processed_cleaned.csv', index=False)\n",
    "books.to_csv('books_df_cleaned.csv', index=False)"
   ]
  },
  {
   "cell_type": "code",
   "execution_count": 68,
   "id": "179176d8",
   "metadata": {},
   "outputs": [],
   "source": [
    "# Split the data into Train and Test"
   ]
  },
  {
   "cell_type": "code",
   "execution_count": 69,
   "id": "bc4102d0",
   "metadata": {},
   "outputs": [],
   "source": [
    "# Split the data into train and test for the model\n",
    "from sklearn.model_selection import train_test_split "
   ]
  },
  {
   "cell_type": "code",
   "execution_count": 70,
   "id": "6523341b",
   "metadata": {},
   "outputs": [],
   "source": [
    "# the size of the test is 20% and the train is 80%\n",
    "df_train, df_test = train_test_split(processed,test_size = 0.2)"
   ]
  },
  {
   "cell_type": "code",
   "execution_count": 71,
   "id": "31cf138b",
   "metadata": {},
   "outputs": [
    {
     "data": {
      "text/plain": [
       "10996"
      ]
     },
     "execution_count": 71,
     "metadata": {},
     "output_type": "execute_result"
    }
   ],
   "source": [
    "# Total records for dataset\n",
    "len(processed)"
   ]
  },
  {
   "cell_type": "code",
   "execution_count": 72,
   "id": "e4018b03",
   "metadata": {},
   "outputs": [
    {
     "data": {
      "text/plain": [
       "8796"
      ]
     },
     "execution_count": 72,
     "metadata": {},
     "output_type": "execute_result"
    }
   ],
   "source": [
    "# Total records for training the model\n",
    "len(df_train)"
   ]
  },
  {
   "cell_type": "code",
   "execution_count": 73,
   "id": "78778505",
   "metadata": {},
   "outputs": [
    {
     "data": {
      "text/plain": [
       "2200"
      ]
     },
     "execution_count": 73,
     "metadata": {},
     "output_type": "execute_result"
    }
   ],
   "source": [
    "# Total records for testing the model\n",
    "len(df_test)"
   ]
  },
  {
   "cell_type": "code",
   "execution_count": 74,
   "id": "68a63f0b",
   "metadata": {},
   "outputs": [
    {
     "name": "stdout",
     "output_type": "stream",
     "text": [
      "3.9319516187704626\n",
      "3.930638926784902\n",
      "3.9372000000000003\n"
     ]
    }
   ],
   "source": [
    "# Check the data is ramdomly selected\n",
    "print(processed.average_rating.mean())\n",
    "print(df_train.average_rating.mean())\n",
    "print(df_test.average_rating.mean())"
   ]
  },
  {
   "cell_type": "code",
   "execution_count": 75,
   "id": "ecda8310",
   "metadata": {},
   "outputs": [
    {
     "data": {
      "text/plain": [
       "Index(['bookID', 'title', 'authors', 'average_rating', 'num_pages',\n",
       "       'ratings_count', 'text_reviews_count', 'month', 'year', 'eng', 'fre',\n",
       "       'ger', 'spa'],\n",
       "      dtype='object')"
      ]
     },
     "execution_count": 75,
     "metadata": {},
     "output_type": "execute_result"
    }
   ],
   "source": [
    "# Review the features and the target to be used for the machine learning\n",
    "df_train.columns"
   ]
  },
  {
   "cell_type": "code",
   "execution_count": 76,
   "id": "a66910ef",
   "metadata": {},
   "outputs": [],
   "source": [
    "#C get the values of the columns for the training data\n",
    "X_train = df_train.loc[:,['title', 'authors', 'num_pages', 'ratings_count', 'text_reviews_count','year','month','eng','fre','ger','spa']].values\n",
    "y_train = df_train.average_rating.values.round(1)"
   ]
  },
  {
   "cell_type": "code",
   "execution_count": 77,
   "id": "acb632b5",
   "metadata": {},
   "outputs": [
    {
     "name": "stdout",
     "output_type": "stream",
     "text": [
      "[[6267. 1974.  852. ...    0.    0.    0.]\n",
      " [6485. 2717.  311. ...    0.    0.    0.]\n",
      " [ 717.   68.  713. ...    0.    0.    0.]\n",
      " ...\n",
      " [5418. 2306.  144. ...    0.    0.    0.]\n",
      " [2456.  651.  372. ...    0.    0.    0.]\n",
      " [2038.  458.    9. ...    0.    0.    0.]]\n"
     ]
    }
   ],
   "source": [
    "# View the values for X_train\n",
    "print(X_train)"
   ]
  },
  {
   "cell_type": "code",
   "execution_count": 78,
   "id": "f2eb1e37",
   "metadata": {},
   "outputs": [
    {
     "name": "stdout",
     "output_type": "stream",
     "text": [
      "[4.4 4.  4.6 ... 4.4 3.9 4.2]\n"
     ]
    }
   ],
   "source": [
    "# View the values y_train\n",
    "print(y_train)"
   ]
  },
  {
   "cell_type": "code",
   "execution_count": 79,
   "id": "5bd96637",
   "metadata": {},
   "outputs": [],
   "source": [
    "# get the values of the columns for the test data\n",
    "X_test = df_test.loc[:,['title', 'authors', 'num_pages', 'ratings_count', 'text_reviews_count','year','month','eng','fre','ger','spa']].values\n",
    "y_test = df_test.average_rating.values.round(1)"
   ]
  },
  {
   "cell_type": "code",
   "execution_count": 80,
   "id": "13914816",
   "metadata": {},
   "outputs": [
    {
     "name": "stdout",
     "output_type": "stream",
     "text": [
      "[[4871. 2137.  279. ...    0.    0.    0.]\n",
      " [8652. 3596.  112. ...    0.    0.    0.]\n",
      " [4992.   59.  413. ...    0.    0.    0.]\n",
      " ...\n",
      " [2386.  717.  480. ...    0.    0.    0.]\n",
      " [3494. 1598.  179. ...    0.    0.    0.]\n",
      " [2859. 1381.  400. ...    0.    0.    0.]]\n"
     ]
    }
   ],
   "source": [
    "# View the values for X_test\n",
    "print(X_test)"
   ]
  },
  {
   "cell_type": "code",
   "execution_count": 81,
   "id": "443437df",
   "metadata": {},
   "outputs": [
    {
     "name": "stdout",
     "output_type": "stream",
     "text": [
      "[3.9 4.3 4.3 ... 4.4 4.4 3.9]\n"
     ]
    }
   ],
   "source": [
    "# View the values y_test\n",
    "print(y_test)"
   ]
  },
  {
   "cell_type": "code",
   "execution_count": 82,
   "id": "210b8fd5",
   "metadata": {},
   "outputs": [],
   "source": [
    "# Train the Model"
   ]
  },
  {
   "cell_type": "code",
   "execution_count": 83,
   "id": "06c3a323",
   "metadata": {},
   "outputs": [],
   "source": [
    "# importing module: Liner Regression\n",
    "from sklearn.linear_model import LinearRegression"
   ]
  },
  {
   "cell_type": "code",
   "execution_count": 84,
   "id": "d72b7311",
   "metadata": {},
   "outputs": [],
   "source": [
    "# creating an object of LinearRegression class\n",
    "lr_model = LinearRegression()"
   ]
  },
  {
   "cell_type": "code",
   "execution_count": 85,
   "id": "58f9fa22",
   "metadata": {},
   "outputs": [
    {
     "data": {
      "text/plain": [
       "LinearRegression()"
      ]
     },
     "execution_count": 85,
     "metadata": {},
     "output_type": "execute_result"
    }
   ],
   "source": [
    "# here we train the model on the training data\n",
    "lr_model.fit(X=X_train, y=y_train)"
   ]
  },
  {
   "cell_type": "code",
   "execution_count": 86,
   "id": "af14511e",
   "metadata": {},
   "outputs": [],
   "source": [
    "#Predict the Target Values"
   ]
  },
  {
   "cell_type": "code",
   "execution_count": 87,
   "id": "d19972e9",
   "metadata": {},
   "outputs": [],
   "source": [
    "y_test_predicted = lr_model.predict(X_test)"
   ]
  },
  {
   "cell_type": "code",
   "execution_count": 88,
   "id": "0d8cedab",
   "metadata": {},
   "outputs": [],
   "source": [
    "# Approximate to 1 decimal place\n",
    "y_test_predicted = y_test_predicted.round(1)"
   ]
  },
  {
   "cell_type": "code",
   "execution_count": 89,
   "id": "f42d40a3",
   "metadata": {},
   "outputs": [
    {
     "data": {
      "text/html": [
       "<div>\n",
       "<style scoped>\n",
       "    .dataframe tbody tr th:only-of-type {\n",
       "        vertical-align: middle;\n",
       "    }\n",
       "\n",
       "    .dataframe tbody tr th {\n",
       "        vertical-align: top;\n",
       "    }\n",
       "\n",
       "    .dataframe thead th {\n",
       "        text-align: right;\n",
       "    }\n",
       "</style>\n",
       "<table border=\"1\" class=\"dataframe\">\n",
       "  <thead>\n",
       "    <tr style=\"text-align: right;\">\n",
       "      <th></th>\n",
       "      <th>Actual</th>\n",
       "      <th>Predicted</th>\n",
       "    </tr>\n",
       "  </thead>\n",
       "  <tbody>\n",
       "    <tr>\n",
       "      <th>0</th>\n",
       "      <td>3.9</td>\n",
       "      <td>3.9</td>\n",
       "    </tr>\n",
       "    <tr>\n",
       "      <th>1</th>\n",
       "      <td>4.3</td>\n",
       "      <td>3.9</td>\n",
       "    </tr>\n",
       "    <tr>\n",
       "      <th>2</th>\n",
       "      <td>4.3</td>\n",
       "      <td>4.0</td>\n",
       "    </tr>\n",
       "    <tr>\n",
       "      <th>3</th>\n",
       "      <td>3.1</td>\n",
       "      <td>3.9</td>\n",
       "    </tr>\n",
       "    <tr>\n",
       "      <th>4</th>\n",
       "      <td>4.1</td>\n",
       "      <td>3.9</td>\n",
       "    </tr>\n",
       "    <tr>\n",
       "      <th>5</th>\n",
       "      <td>4.3</td>\n",
       "      <td>4.0</td>\n",
       "    </tr>\n",
       "    <tr>\n",
       "      <th>6</th>\n",
       "      <td>4.2</td>\n",
       "      <td>4.0</td>\n",
       "    </tr>\n",
       "    <tr>\n",
       "      <th>7</th>\n",
       "      <td>4.0</td>\n",
       "      <td>3.9</td>\n",
       "    </tr>\n",
       "    <tr>\n",
       "      <th>8</th>\n",
       "      <td>4.0</td>\n",
       "      <td>3.9</td>\n",
       "    </tr>\n",
       "  </tbody>\n",
       "</table>\n",
       "</div>"
      ],
      "text/plain": [
       "   Actual  Predicted\n",
       "0     3.9        3.9\n",
       "1     4.3        3.9\n",
       "2     4.3        4.0\n",
       "3     3.1        3.9\n",
       "4     4.1        3.9\n",
       "5     4.3        4.0\n",
       "6     4.2        4.0\n",
       "7     4.0        3.9\n",
       "8     4.0        3.9"
      ]
     },
     "execution_count": 89,
     "metadata": {},
     "output_type": "execute_result"
    }
   ],
   "source": [
    "# Now compare the actual output values for y_test with the predicted values.\n",
    "pred = pd.DataFrame({'Actual': y_test.tolist(), 'Predicted': y_test_predicted.tolist()}).head(21)\n",
    "pred.head(9)"
   ]
  },
  {
   "cell_type": "code",
   "execution_count": 90,
   "id": "28c9e397",
   "metadata": {},
   "outputs": [],
   "source": [
    "#Evalute the Performance of the Model"
   ]
  },
  {
   "cell_type": "code",
   "execution_count": 91,
   "id": "c5f8e1c5",
   "metadata": {},
   "outputs": [
    {
     "data": {
      "text/plain": [
       "0.1481818181818182"
      ]
     },
     "execution_count": 91,
     "metadata": {},
     "output_type": "execute_result"
    }
   ],
   "source": [
    "# Check how accurate is the prediction\n",
    "(y_test_predicted == y_test).sum()/len(y_test)"
   ]
  },
  {
   "cell_type": "code",
   "execution_count": 92,
   "id": "d160685d",
   "metadata": {},
   "outputs": [],
   "source": [
    "# Compute the accuracy of the model\n",
    "from sklearn import metrics\n",
    "from sklearn.metrics import r2_score \n",
    "from sklearn.metrics import mean_squared_error"
   ]
  },
  {
   "cell_type": "code",
   "execution_count": 93,
   "id": "9a25774a",
   "metadata": {},
   "outputs": [],
   "source": [
    "# Evalute the performance of the Algorithm\n",
    "score=r2_score(y_test,y_test_predicted)\n",
    "meanError = mean_squared_error(y_test,y_test_predicted)\n",
    "meansquardError = np.sqrt(mean_squared_error(y_test,y_test_predicted))"
   ]
  },
  {
   "cell_type": "code",
   "execution_count": 94,
   "id": "aa01829b",
   "metadata": {},
   "outputs": [
    {
     "name": "stdout",
     "output_type": "stream",
     "text": [
      "R-square is 0.01894182103542874\n",
      "mean_squard_error is 0.11261818181818181\n",
      "root_mean_squared error is 0.33558632543383204\n"
     ]
    }
   ],
   "source": [
    "print('R-square is',score)\n",
    "print('mean_squard_error is',meanError)\n",
    "print('root_mean_squared error is',meansquardError)"
   ]
  },
  {
   "cell_type": "code",
   "execution_count": 95,
   "id": "4baf4d89",
   "metadata": {},
   "outputs": [
    {
     "name": "stdout",
     "output_type": "stream",
     "text": [
      "Intercept: \n",
      " 5.68229000844415\n"
     ]
    }
   ],
   "source": [
    "print('Intercept: \\n', lr_model.intercept_)"
   ]
  },
  {
   "cell_type": "code",
   "execution_count": 96,
   "id": "5aa32a4c",
   "metadata": {},
   "outputs": [
    {
     "name": "stdout",
     "output_type": "stream",
     "text": [
      "Coefficients: \n",
      " [-2.70919873e-06 -4.53408900e-06  2.17411286e-04  1.16107284e-07\n",
      "  8.65251321e-09 -9.06800441e-04  1.90216326e-03 -5.29426224e-03\n",
      "  2.10773620e-02 -5.84672429e-03 -9.93637546e-03]\n"
     ]
    }
   ],
   "source": [
    "print('Coefficients: \\n', lr_model.coef_)"
   ]
  },
  {
   "cell_type": "code",
   "execution_count": 97,
   "id": "92a8e055",
   "metadata": {},
   "outputs": [],
   "source": [
    "#Compare the Model"
   ]
  },
  {
   "cell_type": "code",
   "execution_count": 98,
   "id": "74b69070",
   "metadata": {},
   "outputs": [],
   "source": [
    "# importing module: Random Forest Regressor\n",
    "from sklearn.ensemble import RandomForestRegressor\n",
    "from sklearn import metrics"
   ]
  },
  {
   "cell_type": "code",
   "execution_count": 99,
   "id": "ea5d2545",
   "metadata": {},
   "outputs": [],
   "source": [
    "rf_model = RandomForestRegressor()"
   ]
  },
  {
   "cell_type": "code",
   "execution_count": 100,
   "id": "cb8b5a25",
   "metadata": {},
   "outputs": [
    {
     "data": {
      "text/plain": [
       "RandomForestRegressor()"
      ]
     },
     "execution_count": 100,
     "metadata": {},
     "output_type": "execute_result"
    }
   ],
   "source": [
    "rf_model.fit(X=X_train,y=y_train)"
   ]
  },
  {
   "cell_type": "code",
   "execution_count": 101,
   "id": "3dd0e777",
   "metadata": {},
   "outputs": [],
   "source": [
    "y_test_predicted_rf = rf_model.predict(X_test)"
   ]
  },
  {
   "cell_type": "code",
   "execution_count": 102,
   "id": "67bf3f7e",
   "metadata": {},
   "outputs": [],
   "source": [
    "# Approximate to 1 decimal place\n",
    "y_test_predicted_rf = y_test_predicted_rf.round(1)"
   ]
  },
  {
   "cell_type": "code",
   "execution_count": 103,
   "id": "dd917917",
   "metadata": {},
   "outputs": [
    {
     "data": {
      "text/html": [
       "<div>\n",
       "<style scoped>\n",
       "    .dataframe tbody tr th:only-of-type {\n",
       "        vertical-align: middle;\n",
       "    }\n",
       "\n",
       "    .dataframe tbody tr th {\n",
       "        vertical-align: top;\n",
       "    }\n",
       "\n",
       "    .dataframe thead th {\n",
       "        text-align: right;\n",
       "    }\n",
       "</style>\n",
       "<table border=\"1\" class=\"dataframe\">\n",
       "  <thead>\n",
       "    <tr style=\"text-align: right;\">\n",
       "      <th></th>\n",
       "      <th>Actual</th>\n",
       "      <th>Predicted</th>\n",
       "    </tr>\n",
       "  </thead>\n",
       "  <tbody>\n",
       "    <tr>\n",
       "      <th>0</th>\n",
       "      <td>3.9</td>\n",
       "      <td>3.7</td>\n",
       "    </tr>\n",
       "    <tr>\n",
       "      <th>1</th>\n",
       "      <td>4.3</td>\n",
       "      <td>4.0</td>\n",
       "    </tr>\n",
       "    <tr>\n",
       "      <th>2</th>\n",
       "      <td>4.3</td>\n",
       "      <td>4.1</td>\n",
       "    </tr>\n",
       "    <tr>\n",
       "      <th>3</th>\n",
       "      <td>3.1</td>\n",
       "      <td>3.9</td>\n",
       "    </tr>\n",
       "    <tr>\n",
       "      <th>4</th>\n",
       "      <td>4.1</td>\n",
       "      <td>3.9</td>\n",
       "    </tr>\n",
       "    <tr>\n",
       "      <th>5</th>\n",
       "      <td>4.3</td>\n",
       "      <td>4.2</td>\n",
       "    </tr>\n",
       "    <tr>\n",
       "      <th>6</th>\n",
       "      <td>4.2</td>\n",
       "      <td>4.1</td>\n",
       "    </tr>\n",
       "    <tr>\n",
       "      <th>7</th>\n",
       "      <td>4.0</td>\n",
       "      <td>3.9</td>\n",
       "    </tr>\n",
       "    <tr>\n",
       "      <th>8</th>\n",
       "      <td>4.0</td>\n",
       "      <td>3.9</td>\n",
       "    </tr>\n",
       "    <tr>\n",
       "      <th>9</th>\n",
       "      <td>3.7</td>\n",
       "      <td>4.1</td>\n",
       "    </tr>\n",
       "  </tbody>\n",
       "</table>\n",
       "</div>"
      ],
      "text/plain": [
       "   Actual  Predicted\n",
       "0     3.9        3.7\n",
       "1     4.3        4.0\n",
       "2     4.3        4.1\n",
       "3     3.1        3.9\n",
       "4     4.1        3.9\n",
       "5     4.3        4.2\n",
       "6     4.2        4.1\n",
       "7     4.0        3.9\n",
       "8     4.0        3.9\n",
       "9     3.7        4.1"
      ]
     },
     "execution_count": 103,
     "metadata": {},
     "output_type": "execute_result"
    }
   ],
   "source": [
    "# Now compare the actual output values for y_test with the predicted values.\n",
    "preds = pd.DataFrame({'Actual': y_test.tolist(), 'Predicted': y_test_predicted_rf.tolist()}).head(25)\n",
    "preds.head(10)"
   ]
  },
  {
   "cell_type": "code",
   "execution_count": 104,
   "id": "a5bc4347",
   "metadata": {},
   "outputs": [
    {
     "data": {
      "text/plain": [
       "0.1690909090909091"
      ]
     },
     "execution_count": 104,
     "metadata": {},
     "output_type": "execute_result"
    }
   ],
   "source": [
    "# Check how accurate is the prediction\n",
    "(y_test_predicted_rf == y_test).sum()/len(y_test)"
   ]
  },
  {
   "cell_type": "code",
   "execution_count": 105,
   "id": "bb42e4d2",
   "metadata": {},
   "outputs": [],
   "source": [
    "# Evalute the performance of the Algorithm\n",
    "score=r2_score(y_test,y_test_predicted_rf)\n",
    "meanError = mean_squared_error(y_test,y_test_predicted_rf)\n",
    "meansquardError = np.sqrt(mean_squared_error(y_test,y_test_predicted_rf))"
   ]
  },
  {
   "cell_type": "code",
   "execution_count": 106,
   "id": "a1e5e58e",
   "metadata": {},
   "outputs": [
    {
     "name": "stdout",
     "output_type": "stream",
     "text": [
      "R-square is 0.17614237683496647\n",
      "mean_sqrd_error is 0.09457272727272728\n",
      "root_mean_squared error is 0.3075267911462793\n"
     ]
    }
   ],
   "source": [
    "print('R-square is',score)\n",
    "print('mean_sqrd_error is',meanError)\n",
    "print('root_mean_squared error is',meansquardError)"
   ]
  },
  {
   "cell_type": "code",
   "execution_count": 108,
   "id": "e1dd699f",
   "metadata": {},
   "outputs": [],
   "source": [
    "#Compare the Model 2"
   ]
  },
  {
   "cell_type": "code",
   "execution_count": null,
   "id": "158cf79f",
   "metadata": {},
   "outputs": [],
   "source": [
    "#Conclusion\n",
    "#The lower value of root_mean_squared error(RMSE) closer to 0 preferred the better model performance,\n",
    "#conversely, the higher value of R-square(R2) closer to 1 shows that the regression line fits the data well and the model performance is better.\n",
    "#Also, Mean square error (MSE) is the average of the square of the errors.\n",
    "#The larger the number the larger the error which means there is bigger variation between the test result and the predicted result.\n",
    "#Therefore, the Random Forest Regressor model is better than Liner Regression model."
   ]
  }
 ],
 "metadata": {
  "kernelspec": {
   "display_name": "Python 3 (ipykernel)",
   "language": "python",
   "name": "python3"
  },
  "language_info": {
   "codemirror_mode": {
    "name": "ipython",
    "version": 3
   },
   "file_extension": ".py",
   "mimetype": "text/x-python",
   "name": "python",
   "nbconvert_exporter": "python",
   "pygments_lexer": "ipython3",
   "version": "3.8.13"
  }
 },
 "nbformat": 4,
 "nbformat_minor": 5
}
